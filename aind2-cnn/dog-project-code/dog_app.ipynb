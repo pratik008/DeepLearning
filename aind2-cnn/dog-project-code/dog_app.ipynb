{
 "cells": [
  {
   "cell_type": "markdown",
   "metadata": {},
   "source": [
    "# Artificial Intelligence Nanodegree\n",
    "\n",
    "## Convolutional Neural Networks\n",
    "\n",
    "## Project: Write an Algorithm for a Dog Identification App \n",
    "\n",
    "---\n",
    "\n",
    "In this notebook, some template code has already been provided for you, and you will need to implement additional functionality to successfully complete this project. You will not need to modify the included code beyond what is requested. Sections that begin with **'(IMPLEMENTATION)'** in the header indicate that the following block of code will require additional functionality which you must provide. Instructions will be provided for each section, and the specifics of the implementation are marked in the code block with a 'TODO' statement. Please be sure to read the instructions carefully! \n",
    "\n",
    "> **Note**: Once you have completed all of the code implementations, you need to finalize your work by exporting the iPython Notebook as an HTML document. Before exporting the notebook to html, all of the code cells need to have been run so that reviewers can see the final implementation and output. You can then export the notebook by using the menu above and navigating to  \\n\",\n",
    "    \"**File -> Download as -> HTML (.html)**. Include the finished document along with this notebook as your submission.\n",
    "\n",
    "In addition to implementing code, there will be questions that you must answer which relate to the project and your implementation. Each section where you will answer a question is preceded by a **'Question X'** header. Carefully read each question and provide thorough answers in the following text boxes that begin with **'Answer:'**. Your project submission will be evaluated based on your answers to each of the questions and the implementation you provide.\n",
    "\n",
    ">**Note:** Code and Markdown cells can be executed using the **Shift + Enter** keyboard shortcut.  Markdown cells can be edited by double-clicking the cell to enter edit mode.\n",
    "\n",
    "The rubric contains _optional_ \"Stand Out Suggestions\" for enhancing the project beyond the minimum requirements. If you decide to pursue the \"Stand Out Suggestions\", you should include the code in this IPython notebook.\n",
    "\n",
    "\n",
    "\n",
    "---\n",
    "### Why We're Here \n",
    "\n",
    "In this notebook, you will make the first steps towards developing an algorithm that could be used as part of a mobile or web app.  At the end of this project, your code will accept any user-supplied image as input.  If a dog is detected in the image, it will provide an estimate of the dog's breed.  If a human is detected, it will provide an estimate of the dog breed that is most resembling.  The image below displays potential sample output of your finished project (... but we expect that each student's algorithm will behave differently!). \n",
    "\n",
    "![Sample Dog Output](images/sample_dog_output.png)\n",
    "\n",
    "In this real-world setting, you will need to piece together a series of models to perform different tasks; for instance, the algorithm that detects humans in an image will be different from the CNN that infers dog breed.  There are many points of possible failure, and no perfect algorithm exists.  Your imperfect solution will nonetheless create a fun user experience!\n",
    "\n",
    "### The Road Ahead\n",
    "\n",
    "We break the notebook into separate steps.  Feel free to use the links below to navigate the notebook.\n",
    "\n",
    "* [Step 0](#step0): Import Datasets\n",
    "* [Step 1](#step1): Detect Humans\n",
    "* [Step 2](#step2): Detect Dogs\n",
    "* [Step 3](#step3): Create a CNN to Classify Dog Breeds (from Scratch)\n",
    "* [Step 4](#step4): Use a CNN to Classify Dog Breeds (using Transfer Learning)\n",
    "* [Step 5](#step5): Create a CNN to Classify Dog Breeds (using Transfer Learning)\n",
    "* [Step 6](#step6): Write your Algorithm\n",
    "* [Step 7](#step7): Test Your Algorithm\n",
    "\n",
    "---\n",
    "<a id='step0'></a>\n",
    "## Step 0: Import Datasets\n",
    "\n",
    "### Import Dog Dataset\n",
    "\n",
    "In the code cell below, we import a dataset of dog images.  We populate a few variables through the use of the `load_files` function from the scikit-learn library:\n",
    "- `train_files`, `valid_files`, `test_files` - numpy arrays containing file paths to images\n",
    "- `train_targets`, `valid_targets`, `test_targets` - numpy arrays containing onehot-encoded classification labels \n",
    "- `dog_names` - list of string-valued dog breed names for translating labels"
   ]
  },
  {
   "cell_type": "code",
   "execution_count": 21,
   "metadata": {},
   "outputs": [
    {
     "name": "stderr",
     "output_type": "stream",
     "text": [
      "Using TensorFlow backend.\n"
     ]
    },
    {
     "name": "stdout",
     "output_type": "stream",
     "text": [
      "There are 133 total dog categories.\n",
      "There are 8351 total dog images.\n",
      "\n",
      "There are 6680 training dog images.\n",
      "There are 835 validation dog images.\n",
      "There are 836 test dog images.\n"
     ]
    }
   ],
   "source": [
    "from sklearn.datasets import load_files       \n",
    "from keras.utils import np_utils\n",
    "import numpy as np\n",
    "from glob import glob\n",
    "\n",
    "# define function to load train, test, and validation datasets\n",
    "def load_dataset(path):\n",
    "    data = load_files(path)\n",
    "    dog_files = np.array(data['filenames'])\n",
    "    dog_targets = np_utils.to_categorical(np.array(data['target']), 133)\n",
    "    return dog_files, dog_targets\n",
    "\n",
    "# load train, test, and validation datasets\n",
    "train_files, train_targets = load_dataset('dogImages/train')\n",
    "valid_files, valid_targets = load_dataset('dogImages/valid')\n",
    "test_files, test_targets = load_dataset('dogImages/test')\n",
    "\n",
    "# load list of dog names\n",
    "dog_names = [item[20:-1] for item in sorted(glob(\"dogImages/train/*/\"))]\n",
    "\n",
    "# print statistics about the dataset\n",
    "print('There are %d total dog categories.' % len(dog_names))\n",
    "print('There are %s total dog images.\\n' % len(np.hstack([train_files, valid_files, test_files])))\n",
    "print('There are %d training dog images.' % len(train_files))\n",
    "print('There are %d validation dog images.' % len(valid_targets))\n",
    "print('There are %d test dog images.'% len(test_files))"
   ]
  },
  {
   "cell_type": "markdown",
   "metadata": {},
   "source": [
    "### Import Human Dataset\n",
    "\n",
    "In the code cell below, we import a dataset of human images, where the file paths are stored in the numpy array `human_files`."
   ]
  },
  {
   "cell_type": "code",
   "execution_count": 22,
   "metadata": {},
   "outputs": [
    {
     "name": "stdout",
     "output_type": "stream",
     "text": [
      "There are 13233 total human images.\n"
     ]
    }
   ],
   "source": [
    "import random\n",
    "random.seed(8675309)\n",
    "\n",
    "# load filenames in shuffled human dataset\n",
    "human_files = np.array(glob(\"lfw/*/*\"))\n",
    "random.shuffle(human_files)\n",
    "\n",
    "# print statistics about the dataset\n",
    "print('There are %d total human images.' % len(human_files))"
   ]
  },
  {
   "cell_type": "markdown",
   "metadata": {},
   "source": [
    "---\n",
    "<a id='step1'></a>\n",
    "## Step 1: Detect Humans\n",
    "\n",
    "We use OpenCV's implementation of [Haar feature-based cascade classifiers](http://docs.opencv.org/trunk/d7/d8b/tutorial_py_face_detection.html) to detect human faces in images.  OpenCV provides many pre-trained face detectors, stored as XML files on [github](https://github.com/opencv/opencv/tree/master/data/haarcascades).  We have downloaded one of these detectors and stored it in the `haarcascades` directory.\n",
    "\n",
    "In the next code cell, we demonstrate how to use this detector to find human faces in a sample image."
   ]
  },
  {
   "cell_type": "code",
   "execution_count": 23,
   "metadata": {},
   "outputs": [
    {
     "name": "stdout",
     "output_type": "stream",
     "text": [
      "Number of faces detected: 3\n"
     ]
    },
    {
     "data": {
      "image/png": "[encoded data removed]",
      "text/plain": [
       "<matplotlib.figure.Figure at 0x7fc4e8b48b70>"
      ]
     },
     "metadata": {},
     "output_type": "display_data"
    }
   ],
   "source": [
    "import cv2                \n",
    "import matplotlib.pyplot as plt                        \n",
    "%matplotlib inline                               \n",
    "\n",
    "# extract pre-trained face detector\n",
    "face_cascade = cv2.CascadeClassifier('haarcascades/haarcascade_frontalface_alt.xml')\n",
    "\n",
    "# load color (BGR) image\n",
    "img = cv2.imread(human_files[3])\n",
    "# convert BGR image to grayscale\n",
    "gray = cv2.cvtColor(img, cv2.COLOR_BGR2GRAY)\n",
    "\n",
    "# find faces in image\n",
    "faces = face_cascade.detectMultiScale(gray)\n",
    "\n",
    "# print number of faces detected in the image\n",
    "print('Number of faces detected:', len(faces))\n",
    "\n",
    "# get bounding box for each detected face\n",
    "for (x,y,w,h) in faces:\n",
    "    # add bounding box to color image\n",
    "    cv2.rectangle(img,(x,y),(x+w,y+h),(255,0,0),2)\n",
    "    \n",
    "# convert BGR image to RGB for plotting\n",
    "cv_rgb = cv2.cvtColor(img, cv2.COLOR_BGR2RGB)\n",
    "\n",
    "# display the image, along with bounding box\n",
    "plt.imshow(cv_rgb)\n",
    "plt.show()"
   ]
  },
  {
   "cell_type": "markdown",
   "metadata": {},
   "source": [
    "Before using any of the face detectors, it is standard procedure to convert the images to grayscale.  The `detectMultiScale` function executes the classifier stored in `face_cascade` and takes the grayscale image as a parameter.  \n",
    "\n",
    "In the above code, `faces` is a numpy array of detected faces, where each row corresponds to a detected face.  Each detected face is a 1D array with four entries that specifies the bounding box of the detected face.  The first two entries in the array (extracted in the above code as `x` and `y`) specify the horizontal and vertical positions of the top left corner of the bounding box.  The last two entries in the array (extracted here as `w` and `h`) specify the width and height of the box.\n",
    "\n",
    "### Write a Human Face Detector\n",
    "\n",
    "We can use this procedure to write a function that returns `True` if a human face is detected in an image and `False` otherwise.  This function, aptly named `face_detector`, takes a string-valued file path to an image as input and appears in the code block below."
   ]
  },
  {
   "cell_type": "code",
   "execution_count": 24,
   "metadata": {
    "collapsed": true
   },
   "outputs": [],
   "source": [
    "# returns \"True\" if face is detected in image stored at img_path\n",
    "def face_detector(img_path):\n",
    "    img = cv2.imread(img_path)\n",
    "    gray = cv2.cvtColor(img, cv2.COLOR_BGR2GRAY)\n",
    "    faces = face_cascade.detectMultiScale(gray)\n",
    "    return len(faces) > 0"
   ]
  },
  {
   "cell_type": "markdown",
   "metadata": {},
   "source": [
    "### (IMPLEMENTATION) Assess the Human Face Detector\n",
    "\n",
    "__Question 1:__ Use the code cell below to test the performance of the `face_detector` function.  \n",
    "- What percentage of the first 100 images in `human_files` have a detected human face?  \n",
    "- What percentage of the first 100 images in `dog_files` have a detected human face? \n",
    "\n",
    "Ideally, we would like 100% of human images with a detected face and 0% of dog images with a detected face.  You will see that our algorithm falls short of this goal, but still gives acceptable performance.  We extract the file paths for the first 100 images from each of the datasets and store them in the numpy arrays `human_files_short` and `dog_files_short`.\n",
    "\n",
    "__Answer:__ "
   ]
  },
  {
   "cell_type": "code",
   "execution_count": 25,
   "metadata": {},
   "outputs": [
    {
     "name": "stdout",
     "output_type": "stream",
     "text": [
      "Human Face detected in 100 human files is: 99\n",
      "Human Face detected in 100 dog files is: 11\n"
     ]
    }
   ],
   "source": [
    "human_files_short = human_files[:100]\n",
    "dog_files_short = train_files[:100]\n",
    "# Do NOT modify the code above this line.\n",
    "\n",
    "## TODO: Test the performance of the face_detector algorithm \n",
    "## on the images in human_files_short and dog_files_short.\n",
    "\n",
    "humanFiles = 0\n",
    "dogFiles = 0\n",
    "for image in human_files_short:\n",
    "    if face_detector(image):\n",
    "        humanFiles = humanFiles + 1\n",
    "print(\"Human Face detected in 100 human files is:\", humanFiles)\n",
    "        \n",
    "for image in dog_files_short:\n",
    "    if face_detector(image):\n",
    "        dogFiles = dogFiles + 1\n",
    "print(\"Human Face detected in 100 dog files is:\", dogFiles)\n"
   ]
  },
  {
   "cell_type": "markdown",
   "metadata": {},
   "source": [
    "__Question 2:__ This algorithmic choice necessitates that we communicate to the user that we accept human images only when they provide a clear view of a face (otherwise, we risk having unneccessarily frustrated users!). In your opinion, is this a reasonable expectation to pose on the user? If not, can you think of a way to detect humans in images that does not necessitate an image with a clearly presented face?\n",
    "\n",
    "__Answer:__\n",
    "Yes, it is reasonable to communicate to the user that we eccept only human face images. We can use the human face filter to detect a face and if a human face is not visible we can warn the user that the algorithm did not detect a human face. \n",
    "Having said that, a deep neural network / CNN might be better suited to detect human faces - especially where the face is tilted, or zoomed in or out etc. Also, if we have multiple images of dogs and humans labled in the dataset, we might be able to train the CNN to better detect human faces and also not detect dogs faces as human.  \n",
    "\n",
    "We suggest the face detector from OpenCV as a potential way to detect human images in your algorithm, but you are free to explore other approaches, especially approaches that make use of deep learning :).  Please use the code cell below to design and test your own face detection algorithm.  If you decide to pursue this _optional_ task, report performance on each of the datasets."
   ]
  },
  {
   "cell_type": "code",
   "execution_count": 26,
   "metadata": {
    "collapsed": true
   },
   "outputs": [],
   "source": [
    "## (Optional) TODO: Report the performance of another  \n",
    "## face detection algorithm on the LFW dataset\n",
    "### Feel free to use as many code cells as needed."
   ]
  },
  {
   "cell_type": "markdown",
   "metadata": {},
   "source": [
    "---\n",
    "<a id='step2'></a>\n",
    "## Step 2: Detect Dogs\n",
    "\n",
    "In this section, we use a pre-trained [ResNet-50](http://ethereon.github.io/netscope/#/gist/db945b393d40bfa26006) model to detect dogs in images.  Our first line of code downloads the ResNet-50 model, along with weights that have been trained on [ImageNet](http://www.image-net.org/), a very large, very popular dataset used for image classification and other vision tasks.  ImageNet contains over 10 million URLs, each linking to an image containing an object from one of [1000 categories](https://gist.github.com/yrevar/942d3a0ac09ec9e5eb3a).  Given an image, this pre-trained ResNet-50 model returns a prediction (derived from the available categories in ImageNet) for the object that is contained in the image."
   ]
  },
  {
   "cell_type": "code",
   "execution_count": 27,
   "metadata": {
    "collapsed": true
   },
   "outputs": [],
   "source": [
    "from keras.applications.resnet50 import ResNet50\n",
    "\n",
    "# define ResNet50 model\n",
    "ResNet50_model = ResNet50(weights='imagenet')"
   ]
  },
  {
   "cell_type": "markdown",
   "metadata": {},
   "source": [
    "### Pre-process the Data\n",
    "\n",
    "When using TensorFlow as backend, Keras CNNs require a 4D array (which we'll also refer to as a 4D tensor) as input, with shape\n",
    "\n",
    "$$\n",
    "(\\text{nb_samples}, \\text{rows}, \\text{columns}, \\text{channels}),\n",
    "$$\n",
    "\n",
    "where `nb_samples` corresponds to the total number of images (or samples), and `rows`, `columns`, and `channels` correspond to the number of rows, columns, and channels for each image, respectively.  \n",
    "\n",
    "The `path_to_tensor` function below takes a string-valued file path to a color image as input and returns a 4D tensor suitable for supplying to a Keras CNN.  The function first loads the image and resizes it to a square image that is $224 \\times 224$ pixels.  Next, the image is converted to an array, which is then resized to a 4D tensor.  In this case, since we are working with color images, each image has three channels.  Likewise, since we are processing a single image (or sample), the returned tensor will always have shape\n",
    "\n",
    "$$\n",
    "(1, 224, 224, 3).\n",
    "$$\n",
    "\n",
    "The `paths_to_tensor` function takes a numpy array of string-valued image paths as input and returns a 4D tensor with shape \n",
    "\n",
    "$$\n",
    "(\\text{nb_samples}, 224, 224, 3).\n",
    "$$\n",
    "\n",
    "Here, `nb_samples` is the number of samples, or number of images, in the supplied array of image paths.  It is best to think of `nb_samples` as the number of 3D tensors (where each 3D tensor corresponds to a different image) in your dataset!"
   ]
  },
  {
   "cell_type": "code",
   "execution_count": 28,
   "metadata": {
    "collapsed": true
   },
   "outputs": [],
   "source": [
    "from keras.preprocessing import image                  \n",
    "from tqdm import tqdm\n",
    "\n",
    "def path_to_tensor(img_path):\n",
    "    # loads RGB image as PIL.Image.Image type\n",
    "    img = image.load_img(img_path, target_size=(224, 224))\n",
    "    # convert PIL.Image.Image type to 3D tensor with shape (224, 224, 3)\n",
    "    x = image.img_to_array(img)\n",
    "    # convert 3D tensor to 4D tensor with shape (1, 224, 224, 3) and return 4D tensor\n",
    "    return np.expand_dims(x, axis=0)\n",
    "\n",
    "def paths_to_tensor(img_paths):\n",
    "    list_of_tensors = [path_to_tensor(img_path) for img_path in tqdm(img_paths)]\n",
    "    return np.vstack(list_of_tensors)"
   ]
  },
  {
   "cell_type": "markdown",
   "metadata": {},
   "source": [
    "### Making Predictions with ResNet-50\n",
    "\n",
    "Getting the 4D tensor ready for ResNet-50, and for any other pre-trained model in Keras, requires some additional processing.  First, the RGB image is converted to BGR by reordering the channels.  All pre-trained models have the additional normalization step that the mean pixel (expressed in RGB as $[103.939, 116.779, 123.68]$ and calculated from all pixels in all images in ImageNet) must be subtracted from every pixel in each image.  This is implemented in the imported function `preprocess_input`.  If you're curious, you can check the code for `preprocess_input` [here](https://github.com/fchollet/keras/blob/master/keras/applications/imagenet_utils.py).\n",
    "\n",
    "Now that we have a way to format our image for supplying to ResNet-50, we are now ready to use the model to extract the predictions.  This is accomplished with the `predict` method, which returns an array whose $i$-th entry is the model's predicted probability that the image belongs to the $i$-th ImageNet category.  This is implemented in the `ResNet50_predict_labels` function below.\n",
    "\n",
    "By taking the argmax of the predicted probability vector, we obtain an integer corresponding to the model's predicted object class, which we can identify with an object category through the use of this [dictionary](https://gist.github.com/yrevar/942d3a0ac09ec9e5eb3a). "
   ]
  },
  {
   "cell_type": "code",
   "execution_count": 29,
   "metadata": {
    "collapsed": true
   },
   "outputs": [],
   "source": [
    "from keras.applications.resnet50 import preprocess_input, decode_predictions\n",
    "\n",
    "def ResNet50_predict_labels(img_path):\n",
    "    # returns prediction vector for image located at img_path\n",
    "    img = preprocess_input(path_to_tensor(img_path))\n",
    "    return np.argmax(ResNet50_model.predict(img))"
   ]
  },
  {
   "cell_type": "markdown",
   "metadata": {},
   "source": [
    "### Write a Dog Detector\n",
    "\n",
    "While looking at the [dictionary](https://gist.github.com/yrevar/942d3a0ac09ec9e5eb3a), you will notice that the categories corresponding to dogs appear in an uninterrupted sequence and correspond to dictionary keys 151-268, inclusive, to include all categories from `'Chihuahua'` to `'Mexican hairless'`.  Thus, in order to check to see if an image is predicted to contain a dog by the pre-trained ResNet-50 model, we need only check if the `ResNet50_predict_labels` function above returns a value between 151 and 268 (inclusive).\n",
    "\n",
    "We use these ideas to complete the `dog_detector` function below, which returns `True` if a dog is detected in an image (and `False` if not)."
   ]
  },
  {
   "cell_type": "code",
   "execution_count": 30,
   "metadata": {
    "collapsed": true
   },
   "outputs": [],
   "source": [
    "### returns \"True\" if a dog is detected in the image stored at img_path\n",
    "def dog_detector(img_path):\n",
    "    prediction = ResNet50_predict_labels(img_path)\n",
    "    return ((prediction <= 268) & (prediction >= 151)) "
   ]
  },
  {
   "cell_type": "markdown",
   "metadata": {},
   "source": [
    "### (IMPLEMENTATION) Assess the Dog Detector\n",
    "\n",
    "__Question 3:__ Use the code cell below to test the performance of your `dog_detector` function.  \n",
    "- What percentage of the images in `human_files_short` have a detected dog?  \n",
    "- What percentage of the images in `dog_files_short` have a detected dog?\n",
    "\n",
    "__Answer:__ "
   ]
  },
  {
   "cell_type": "code",
   "execution_count": 31,
   "metadata": {},
   "outputs": [
    {
     "name": "stdout",
     "output_type": "stream",
     "text": [
      "dog detected in 100 human files is: 0\n",
      "dog detected in 100 dog files is: 100\n"
     ]
    }
   ],
   "source": [
    "### TODO: Test the performance of the dog_detector function\n",
    "### on the images in human_files_short and dog_files_short.\n",
    "\n",
    "humanFiles = 0\n",
    "dogFiles = 0\n",
    "for image1 in human_files_short:\n",
    "    if dog_detector(image1):\n",
    "        humanFiles = humanFiles + 1\n",
    "print(\"dog detected in 100 human files is:\", humanFiles)\n",
    "        \n",
    "for image1 in dog_files_short:\n",
    "    if dog_detector(image1):\n",
    "        dogFiles = dogFiles + 1\n",
    "print(\"dog detected in 100 dog files is:\", dogFiles)\n"
   ]
  },
  {
   "cell_type": "markdown",
   "metadata": {},
   "source": [
    "---\n",
    "<a id='step3'></a>\n",
    "## Step 3: Create a CNN to Classify Dog Breeds (from Scratch)\n",
    "\n",
    "Now that we have functions for detecting humans and dogs in images, we need a way to predict breed from images.  In this step, you will create a CNN that classifies dog breeds.  You must create your CNN _from scratch_ (so, you can't use transfer learning _yet_!), and you must attain a test accuracy of at least 1%.  In Step 5 of this notebook, you will have the opportunity to use transfer learning to create a CNN that attains greatly improved accuracy.\n",
    "\n",
    "Be careful with adding too many trainable layers!  More parameters means longer training, which means you are more likely to need a GPU to accelerate the training process.  Thankfully, Keras provides a handy estimate of the time that each epoch is likely to take; you can extrapolate this estimate to figure out how long it will take for your algorithm to train. \n",
    "\n",
    "We mention that the task of assigning breed to dogs from images is considered exceptionally challenging.  To see why, consider that *even a human* would have great difficulty in distinguishing between a Brittany and a Welsh Springer Spaniel.  \n",
    "\n",
    "Brittany | Welsh Springer Spaniel\n",
    "- | - \n",
    "<img src=\"images/Brittany_02625.jpg\" width=\"100\"> | <img src=\"images/Welsh_springer_spaniel_08203.jpg\" width=\"200\">\n",
    "\n",
    "It is not difficult to find other dog breed pairs with minimal inter-class variation (for instance, Curly-Coated Retrievers and American Water Spaniels).  \n",
    "\n",
    "Curly-Coated Retriever | American Water Spaniel\n",
    "- | -\n",
    "<img src=\"images/Curly-coated_retriever_03896.jpg\" width=\"200\"> | <img src=\"images/American_water_spaniel_00648.jpg\" width=\"200\">\n",
    "\n",
    "\n",
    "Likewise, recall that labradors come in yellow, chocolate, and black.  Your vision-based algorithm will have to conquer this high intra-class variation to determine how to classify all of these different shades as the same breed.  \n",
    "\n",
    "Yellow Labrador | Chocolate Labrador | Black Labrador\n",
    "- | -\n",
    "<img src=\"images/Labrador_retriever_06457.jpg\" width=\"150\"> | <img src=\"images/Labrador_retriever_06455.jpg\" width=\"240\"> | <img src=\"images/Labrador_retriever_06449.jpg\" width=\"220\">\n",
    "\n",
    "We also mention that random chance presents an exceptionally low bar: setting aside the fact that the classes are slightly imabalanced, a random guess will provide a correct answer roughly 1 in 133 times, which corresponds to an accuracy of less than 1%.  \n",
    "\n",
    "Remember that the practice is far ahead of the theory in deep learning.  Experiment with many different architectures, and trust your intuition.  And, of course, have fun! \n",
    "\n",
    "### Pre-process the Data\n",
    "\n",
    "We rescale the images by dividing every pixel in every image by 255."
   ]
  },
  {
   "cell_type": "code",
   "execution_count": 18,
   "metadata": {},
   "outputs": [
    {
     "name": "stderr",
     "output_type": "stream",
     "text": [
      "100%|██████████| 6680/6680 [00:54<00:00, 122.40it/s]\n",
      "100%|██████████| 835/835 [00:06<00:00, 137.06it/s]\n",
      "100%|██████████| 836/836 [00:06<00:00, 138.01it/s]\n"
     ]
    }
   ],
   "source": [
    "from PIL import ImageFile                            \n",
    "ImageFile.LOAD_TRUNCATED_IMAGES = True                 \n",
    "\n",
    "# pre-process the data for Keras\n",
    "train_tensors = paths_to_tensor(train_files).astype('float32')/255\n",
    "valid_tensors = paths_to_tensor(valid_files).astype('float32')/255\n",
    "test_tensors = paths_to_tensor(test_files).astype('float32')/255"
   ]
  },
  {
   "cell_type": "markdown",
   "metadata": {},
   "source": [
    "### (IMPLEMENTATION) Model Architecture\n",
    "\n",
    "Create a CNN to classify dog breed.  At the end of your code cell block, summarize the layers of your model by executing the line:\n",
    "    \n",
    "        model.summary()\n",
    "\n",
    "We have imported some Python modules to get you started, but feel free to import as many modules as you need.  If you end up getting stuck, here's a hint that specifies a model that trains relatively fast on CPU and attains >1% test accuracy in 5 epochs:\n",
    "\n",
    "![Sample CNN](images/sample_cnn.png)\n",
    "           \n",
    "__Question 4:__ Outline the steps you took to get to your final CNN architecture and your reasoning at each step.  If you chose to use the hinted architecture above, describe why you think that CNN architecture should work well for the image classification task.\n",
    "\n",
    "__Answer:__ "
   ]
  },
  {
   "cell_type": "code",
   "execution_count": 23,
   "metadata": {},
   "outputs": [
    {
     "name": "stdout",
     "output_type": "stream",
     "text": [
      "(6680, 224, 224, 3)\n",
      "_________________________________________________________________\n",
      "Layer (type)                 Output Shape              Param #   \n",
      "=================================================================\n",
      "conv2d_4 (Conv2D)            (None, 224, 224, 32)      416       \n",
      "_________________________________________________________________\n",
      "max_pooling2d_7 (MaxPooling2 (None, 112, 112, 32)      0         \n",
      "_________________________________________________________________\n",
      "conv2d_5 (Conv2D)            (None, 112, 112, 32)      4128      \n",
      "_________________________________________________________________\n",
      "max_pooling2d_8 (MaxPooling2 (None, 56, 56, 32)        0         \n",
      "_________________________________________________________________\n",
      "conv2d_6 (Conv2D)            (None, 56, 56, 64)        8256      \n",
      "_________________________________________________________________\n",
      "max_pooling2d_9 (MaxPooling2 (None, 28, 28, 64)        0         \n",
      "_________________________________________________________________\n",
      "flatten_4 (Flatten)          (None, 50176)             0         \n",
      "_________________________________________________________________\n",
      "dense_2 (Dense)              (None, 500)               25088500  \n",
      "_________________________________________________________________\n",
      "dropout_1 (Dropout)          (None, 500)               0         \n",
      "_________________________________________________________________\n",
      "dense_3 (Dense)              (None, 133)               66633     \n",
      "=================================================================\n",
      "Total params: 25,167,933\n",
      "Trainable params: 25,167,933\n",
      "Non-trainable params: 0\n",
      "_________________________________________________________________\n"
     ]
    }
   ],
   "source": [
    "from keras.layers import Conv2D, MaxPooling2D, GlobalAveragePooling2D\n",
    "from keras.layers import Dropout, Flatten, Dense\n",
    "from keras.models import Sequential\n",
    "\n",
    "model = Sequential()\n",
    "\n",
    "print(train_tensors.shape)\n",
    "\n",
    "model.add(Conv2D(filters=32, kernel_size=2, padding='same', activation='relu', \n",
    "                        input_shape=(224, 224, 3)))\n",
    "model.add(MaxPooling2D(pool_size=2))\n",
    "model.add(Conv2D(filters=32, kernel_size=2, padding='same', activation='relu'))\n",
    "model.add(MaxPooling2D(pool_size=2))\n",
    "model.add(Conv2D(filters=64, kernel_size=2, padding='same', activation='relu'))\n",
    "model.add(MaxPooling2D(pool_size=2))\n",
    "model.add(Flatten())\n",
    "model.add(Dense(500, activation='sigmoid'))\n",
    "model.add(Dropout(0.5))\n",
    "#model.add(GlobalAveragePooling2D())\n",
    "model.add(Dense(133, activation='softmax'))\n",
    "\n",
    "model.summary()\n"
   ]
  },
  {
   "cell_type": "markdown",
   "metadata": {},
   "source": [
    "### Compile the Model"
   ]
  },
  {
   "cell_type": "code",
   "execution_count": 24,
   "metadata": {
    "collapsed": true
   },
   "outputs": [],
   "source": [
    "model.compile(optimizer='rmsprop', loss='categorical_crossentropy', metrics=['accuracy'])"
   ]
  },
  {
   "cell_type": "markdown",
   "metadata": {},
   "source": [
    "### (IMPLEMENTATION) Train the Model\n",
    "\n",
    "Train your model in the code cell below.  Use model checkpointing to save the model that attains the best validation loss.\n",
    "\n",
    "You are welcome to [augment the training data](https://blog.keras.io/building-powerful-image-classification-models-using-very-little-data.html), but this is not a requirement. "
   ]
  },
  {
   "cell_type": "code",
   "execution_count": 25,
   "metadata": {
    "collapsed": true
   },
   "outputs": [],
   "source": [
    "from keras.preprocessing.image import ImageDataGenerator\n",
    "\n",
    "# create and configure augmented image generator\n",
    "datagen_train = ImageDataGenerator(\n",
    "    width_shift_range=0.1,  # randomly shift images horizontally (10% of total width)\n",
    "    height_shift_range=0.1,  # randomly shift images vertically (10% of total height)\n",
    "    shear_range=0.2,\n",
    "    zoom_range=0.2,\n",
    "    horizontal_flip=True) # randomly flip images horizontally\n",
    "\n",
    "# create and configure augmented image generator\n",
    "datagen_valid = ImageDataGenerator(\n",
    "    width_shift_range=0.1,  # randomly shift images horizontally (10% of total width)\n",
    "    height_shift_range=0.1,  # randomly shift images vertically (10% of total height)\n",
    "    horizontal_flip=True) # randomly flip images horizontally\n",
    "\n",
    "# fit augmented image generator on data\n",
    "datagen_train.fit(train_tensors)\n",
    "datagen_valid.fit(valid_tensors)\n",
    "\n"
   ]
  },
  {
   "cell_type": "code",
   "execution_count": 26,
   "metadata": {},
   "outputs": [
    {
     "name": "stdout",
     "output_type": "stream",
     "text": [
      "Epoch 1/20\n",
      "333/334 [============================>.] - ETA: 0s - loss: 4.9407 - acc: 0.0150Epoch 00000: val_loss improved from inf to 4.71493, saving model to aug_dog_model.weights.best.hdf5\n",
      "334/334 [==============================] - 67s - loss: 4.9395 - acc: 0.0151 - val_loss: 4.7149 - val_acc: 0.0195\n",
      "Epoch 2/20\n",
      "333/334 [============================>.] - ETA: 0s - loss: 4.5995 - acc: 0.0330Epoch 00001: val_loss improved from 4.71493 to 4.40459, saving model to aug_dog_model.weights.best.hdf5\n",
      "334/334 [==============================] - 63s - loss: 4.5994 - acc: 0.0332 - val_loss: 4.4046 - val_acc: 0.0524\n",
      "Epoch 3/20\n",
      "333/334 [============================>.] - ETA: 0s - loss: 4.4039 - acc: 0.0459Epoch 00002: val_loss improved from 4.40459 to 4.26328, saving model to aug_dog_model.weights.best.hdf5\n",
      "334/334 [==============================] - 63s - loss: 4.4040 - acc: 0.0460 - val_loss: 4.2633 - val_acc: 0.0561\n",
      "Epoch 4/20\n",
      "333/334 [============================>.] - ETA: 0s - loss: 4.2947 - acc: 0.0557Epoch 00003: val_loss improved from 4.26328 to 4.17812, saving model to aug_dog_model.weights.best.hdf5\n",
      "334/334 [==============================] - 64s - loss: 4.2945 - acc: 0.0560 - val_loss: 4.1781 - val_acc: 0.0805\n",
      "Epoch 5/20\n",
      "333/334 [============================>.] - ETA: 0s - loss: 4.1919 - acc: 0.0760Epoch 00004: val_loss improved from 4.17812 to 4.14438, saving model to aug_dog_model.weights.best.hdf5\n",
      "334/334 [==============================] - 64s - loss: 4.1916 - acc: 0.0757 - val_loss: 4.1444 - val_acc: 0.0829\n",
      "Epoch 6/20\n",
      "333/334 [============================>.] - ETA: 0s - loss: 4.1097 - acc: 0.0754Epoch 00005: val_loss improved from 4.14438 to 4.05767, saving model to aug_dog_model.weights.best.hdf5\n",
      "334/334 [==============================] - 63s - loss: 4.1093 - acc: 0.0753 - val_loss: 4.0577 - val_acc: 0.0915\n",
      "Epoch 7/20\n",
      "333/334 [============================>.] - ETA: 0s - loss: 4.0762 - acc: 0.0905Epoch 00006: val_loss did not improve\n",
      "334/334 [==============================] - 63s - loss: 4.0761 - acc: 0.0910 - val_loss: 4.1044 - val_acc: 0.0854\n",
      "Epoch 8/20\n",
      "333/334 [============================>.] - ETA: 0s - loss: 4.0085 - acc: 0.0928Epoch 00007: val_loss improved from 4.05767 to 4.00823, saving model to aug_dog_model.weights.best.hdf5\n",
      "334/334 [==============================] - 63s - loss: 4.0107 - acc: 0.0925 - val_loss: 4.0082 - val_acc: 0.0890\n",
      "Epoch 9/20\n",
      "333/334 [============================>.] - ETA: 0s - loss: 3.9663 - acc: 0.0961Epoch 00008: val_loss did not improve\n",
      "334/334 [==============================] - 62s - loss: 3.9659 - acc: 0.0958 - val_loss: 4.0494 - val_acc: 0.0951\n",
      "Epoch 10/20\n",
      "333/334 [============================>.] - ETA: 0s - loss: 3.9269 - acc: 0.1014Epoch 00009: val_loss did not improve\n",
      "334/334 [==============================] - 62s - loss: 3.9265 - acc: 0.1010 - val_loss: 4.0965 - val_acc: 0.0988\n",
      "Epoch 11/20\n",
      "333/334 [============================>.] - ETA: 0s - loss: 3.8698 - acc: 0.1162Epoch 00010: val_loss improved from 4.00823 to 3.92061, saving model to aug_dog_model.weights.best.hdf5\n",
      "334/334 [==============================] - 64s - loss: 3.8690 - acc: 0.1162 - val_loss: 3.9206 - val_acc: 0.1305\n",
      "Epoch 12/20\n",
      "333/334 [============================>.] - ETA: 0s - loss: 3.8367 - acc: 0.1233Epoch 00011: val_loss improved from 3.92061 to 3.83444, saving model to aug_dog_model.weights.best.hdf5\n",
      "334/334 [==============================] - 64s - loss: 3.8373 - acc: 0.1229 - val_loss: 3.8344 - val_acc: 0.1268\n",
      "Epoch 13/20\n",
      "333/334 [============================>.] - ETA: 0s - loss: 3.8139 - acc: 0.1159Epoch 00012: val_loss did not improve\n",
      "334/334 [==============================] - 62s - loss: 3.8148 - acc: 0.1157 - val_loss: 3.8687 - val_acc: 0.1098\n",
      "Epoch 14/20\n",
      "333/334 [============================>.] - ETA: 0s - loss: 3.7729 - acc: 0.1228- ETA: 2s - loss: 3.7690Epoch 00013: val_loss did not improve\n",
      "334/334 [==============================] - 63s - loss: 3.7732 - acc: 0.1228 - val_loss: 3.9373 - val_acc: 0.0915\n",
      "Epoch 15/20\n",
      "333/334 [============================>.] - ETA: 0s - loss: 3.7613 - acc: 0.1344Epoch 00014: val_loss did not improve\n",
      "334/334 [==============================] - 62s - loss: 3.7602 - acc: 0.1347 - val_loss: 3.8368 - val_acc: 0.1146\n",
      "Epoch 16/20\n",
      "333/334 [============================>.] - ETA: 0s - loss: 3.7203 - acc: 0.1434Epoch 00015: val_loss did not improve\n",
      "334/334 [==============================] - 63s - loss: 3.7184 - acc: 0.1443 - val_loss: 3.9694 - val_acc: 0.1183\n",
      "Epoch 17/20\n",
      "333/334 [============================>.] - ETA: 0s - loss: 3.7221 - acc: 0.1392Epoch 00016: val_loss did not improve\n",
      "334/334 [==============================] - 62s - loss: 3.7205 - acc: 0.1392 - val_loss: 4.0440 - val_acc: 0.1183\n",
      "Epoch 18/20\n",
      "333/334 [============================>.] - ETA: 0s - loss: 3.7015 - acc: 0.1431Epoch 00017: val_loss improved from 3.83444 to 3.79571, saving model to aug_dog_model.weights.best.hdf5\n",
      "334/334 [==============================] - 65s - loss: 3.7008 - acc: 0.1430 - val_loss: 3.7957 - val_acc: 0.1244\n",
      "Epoch 19/20\n",
      "333/334 [============================>.] - ETA: 0s - loss: 3.6929 - acc: 0.1489Epoch 00018: val_loss did not improve\n",
      "334/334 [==============================] - 62s - loss: 3.6942 - acc: 0.1490 - val_loss: 3.8300 - val_acc: 0.1244\n",
      "Epoch 20/20\n",
      "333/334 [============================>.] - ETA: 0s - loss: 3.7035 - acc: 0.1428Epoch 00019: val_loss improved from 3.79571 to 3.76207, saving model to aug_dog_model.weights.best.hdf5\n",
      "334/334 [==============================] - 64s - loss: 3.7015 - acc: 0.1431 - val_loss: 3.7621 - val_acc: 0.1366\n"
     ]
    },
    {
     "data": {
      "text/plain": [
       "<keras.callbacks.History at 0x7f89568cda20>"
      ]
     },
     "execution_count": 26,
     "metadata": {},
     "output_type": "execute_result"
    }
   ],
   "source": [
    "from keras.callbacks import ModelCheckpoint   \n",
    "\n",
    "batch_size = 20\n",
    "epochs = 20\n",
    "\n",
    "# train the model\n",
    "checkpointer = ModelCheckpoint(filepath='aug_dog_model.weights.best.hdf5', verbose=1, \n",
    "                               save_best_only=True)\n",
    "model.fit_generator(datagen_train.flow(train_tensors, train_targets, batch_size=batch_size),\n",
    "                    steps_per_epoch=train_tensors.shape[0] // batch_size,\n",
    "                    epochs=epochs, verbose=1, callbacks=[checkpointer],\n",
    "                    validation_data=datagen_valid.flow(valid_tensors, valid_targets, batch_size=batch_size),\n",
    "                    validation_steps=valid_tensors.shape[0] // batch_size)\n",
    "\n"
   ]
  },
  {
   "cell_type": "code",
   "execution_count": 27,
   "metadata": {},
   "outputs": [
    {
     "name": "stdout",
     "output_type": "stream",
     "text": [
      "Train on 6680 samples, validate on 835 samples\n",
      "Epoch 1/10\n",
      "6660/6680 [============================>.] - ETA: 0s - loss: 3.4772 - acc: 0.1781Epoch 00000: val_loss improved from inf to 3.74207, saving model to saved_models/weights.best.from_scratch.hdf5\n",
      "6680/6680 [==============================] - 38s - loss: 3.4761 - acc: 0.1784 - val_loss: 3.7421 - val_acc: 0.1509\n",
      "Epoch 2/10\n",
      "6660/6680 [============================>.] - ETA: 0s - loss: 3.2544 - acc: 0.2200Epoch 00001: val_loss improved from 3.74207 to 3.72145, saving model to saved_models/weights.best.from_scratch.hdf5\n",
      "6680/6680 [==============================] - 38s - loss: 3.2549 - acc: 0.2198 - val_loss: 3.7214 - val_acc: 0.1401\n",
      "Epoch 3/10\n",
      "6660/6680 [============================>.] - ETA: 0s - loss: 2.9718 - acc: 0.2712Epoch 00002: val_loss did not improve\n",
      "6680/6680 [==============================] - 36s - loss: 2.9719 - acc: 0.2713 - val_loss: 4.3717 - val_acc: 0.1485\n",
      "Epoch 4/10\n",
      "6660/6680 [============================>.] - ETA: 0s - loss: 2.7006 - acc: 0.3246Epoch 00003: val_loss did not improve\n",
      "6680/6680 [==============================] - 36s - loss: 2.6979 - acc: 0.3253 - val_loss: 4.1026 - val_acc: 0.1341\n",
      "Epoch 5/10\n",
      "6660/6680 [============================>.] - ETA: 0s - loss: 2.3558 - acc: 0.3916Epoch 00004: val_loss did not improve\n",
      "6680/6680 [==============================] - 36s - loss: 2.3575 - acc: 0.3915 - val_loss: 3.9437 - val_acc: 0.1557\n",
      "Epoch 6/10\n",
      "6660/6680 [============================>.] - ETA: 0s - loss: 1.9822 - acc: 0.4752Epoch 00005: val_loss did not improve\n",
      "6680/6680 [==============================] - 37s - loss: 1.9810 - acc: 0.4757 - val_loss: 4.3572 - val_acc: 0.1605\n",
      "Epoch 7/10\n",
      "6660/6680 [============================>.] - ETA: 0s - loss: 1.5754 - acc: 0.5766Epoch 00006: val_loss did not improve\n",
      "6680/6680 [==============================] - 37s - loss: 1.5761 - acc: 0.5762 - val_loss: 4.1512 - val_acc: 0.1425\n",
      "Epoch 8/10\n",
      "6660/6680 [============================>.] - ETA: 0s - loss: 1.2848 - acc: 0.6497Epoch 00007: val_loss did not improve\n",
      "6680/6680 [==============================] - 37s - loss: 1.2851 - acc: 0.6496 - val_loss: 4.3598 - val_acc: 0.1581\n",
      "Epoch 9/10\n",
      "6660/6680 [============================>.] - ETA: 0s - loss: 0.9919 - acc: 0.7311Epoch 00008: val_loss did not improve\n",
      "6680/6680 [==============================] - 37s - loss: 0.9924 - acc: 0.7311 - val_loss: 4.4322 - val_acc: 0.1497\n",
      "Epoch 10/10\n",
      "6660/6680 [============================>.] - ETA: 0s - loss: 0.7753 - acc: 0.7874Epoch 00009: val_loss did not improve\n",
      "6680/6680 [==============================] - 37s - loss: 0.7741 - acc: 0.7879 - val_loss: 4.8510 - val_acc: 0.1605\n"
     ]
    },
    {
     "data": {
      "text/plain": [
       "<keras.callbacks.History at 0x7f89569447b8>"
      ]
     },
     "execution_count": 27,
     "metadata": {},
     "output_type": "execute_result"
    }
   ],
   "source": [
    "from keras.callbacks import ModelCheckpoint  \n",
    "\n",
    "### TODO: specify the number of epochs that you would like to use to train the model.\n",
    "\n",
    "epochs = 10\n",
    "\n",
    "### Do NOT modify the code below this line.\n",
    "\n",
    "checkpointer = ModelCheckpoint(filepath='saved_models/weights.best.from_scratch.hdf5', \n",
    "                               verbose=1, save_best_only=True)\n",
    "\n",
    "model.fit(train_tensors, train_targets, \n",
    "          validation_data=(valid_tensors, valid_targets),\n",
    "          epochs=epochs, batch_size=20, callbacks=[checkpointer], verbose=1)"
   ]
  },
  {
   "cell_type": "markdown",
   "metadata": {},
   "source": [
    "### Load the Model with the Best Validation Loss"
   ]
  },
  {
   "cell_type": "code",
   "execution_count": 28,
   "metadata": {
    "collapsed": true
   },
   "outputs": [],
   "source": [
    "model.load_weights('aug_dog_model.weights.best.hdf5')"
   ]
  },
  {
   "cell_type": "markdown",
   "metadata": {},
   "source": [
    "### Test the Model\n",
    "\n",
    "Try out your model on the test dataset of dog images.  Ensure that your test accuracy is greater than 1%."
   ]
  },
  {
   "cell_type": "code",
   "execution_count": 29,
   "metadata": {},
   "outputs": [
    {
     "name": "stdout",
     "output_type": "stream",
     "text": [
      "Test accuracy: 15.3110%\n"
     ]
    }
   ],
   "source": [
    "# get index of predicted dog breed for each image in test set\n",
    "dog_breed_predictions = [np.argmax(model.predict(np.expand_dims(tensor, axis=0))) for tensor in test_tensors]\n",
    "\n",
    "# report test accuracy\n",
    "test_accuracy = 100*np.sum(np.array(dog_breed_predictions)==np.argmax(test_targets, axis=1))/len(dog_breed_predictions)\n",
    "print('Test accuracy: %.4f%%' % test_accuracy)"
   ]
  },
  {
   "cell_type": "markdown",
   "metadata": {},
   "source": [
    "---\n",
    "<a id='step4'></a>\n",
    "## Step 4: Use a CNN to Classify Dog Breeds\n",
    "\n",
    "To reduce training time without sacrificing accuracy, we show you how to train a CNN using transfer learning.  In the following step, you will get a chance to use transfer learning to train your own CNN.\n",
    "\n",
    "### Obtain Bottleneck Features"
   ]
  },
  {
   "cell_type": "code",
   "execution_count": 30,
   "metadata": {
    "collapsed": true
   },
   "outputs": [],
   "source": [
    "bottleneck_features = np.load('bottleneck_features/DogVGG16Data.npz')\n",
    "train_VGG16 = bottleneck_features['train']\n",
    "valid_VGG16 = bottleneck_features['valid']\n",
    "test_VGG16 = bottleneck_features['test']"
   ]
  },
  {
   "cell_type": "markdown",
   "metadata": {},
   "source": [
    "### Model Architecture\n",
    "\n",
    "The model uses the the pre-trained VGG-16 model as a fixed feature extractor, where the last convolutional output of VGG-16 is fed as input to our model.  We only add a global average pooling layer and a fully connected layer, where the latter contains one node for each dog category and is equipped with a softmax."
   ]
  },
  {
   "cell_type": "code",
   "execution_count": 31,
   "metadata": {},
   "outputs": [
    {
     "name": "stdout",
     "output_type": "stream",
     "text": [
      "_________________________________________________________________\n",
      "Layer (type)                 Output Shape              Param #   \n",
      "=================================================================\n",
      "flatten_5 (Flatten)          (None, 25088)             0         \n",
      "_________________________________________________________________\n",
      "dense_4 (Dense)              (None, 500)               12544500  \n",
      "_________________________________________________________________\n",
      "dropout_2 (Dropout)          (None, 500)               0         \n",
      "_________________________________________________________________\n",
      "dense_5 (Dense)              (None, 133)               66633     \n",
      "=================================================================\n",
      "Total params: 12,611,133\n",
      "Trainable params: 12,611,133\n",
      "Non-trainable params: 0\n",
      "_________________________________________________________________\n",
      "(7, 7, 512)\n"
     ]
    }
   ],
   "source": [
    "VGG16_model = Sequential()\n",
    "#VGG16_model.add(GlobalAveragePooling2D(input_shape=train_VGG16.shape[1:]))\n",
    "VGG16_model.add(Flatten(input_shape=train_VGG16.shape[1:]))\n",
    "VGG16_model.add(Dense(500, activation='sigmoid'))\n",
    "VGG16_model.add(Dropout(0.5))\n",
    "VGG16_model.add(Dense(133, activation='softmax'))\n",
    "\n",
    "VGG16_model.summary()\n",
    "\n",
    "print(train_VGG16.shape[1:])"
   ]
  },
  {
   "cell_type": "markdown",
   "metadata": {},
   "source": [
    "### Compile the Model"
   ]
  },
  {
   "cell_type": "code",
   "execution_count": 32,
   "metadata": {
    "collapsed": true
   },
   "outputs": [],
   "source": [
    "VGG16_model.compile(loss='categorical_crossentropy', optimizer='rmsprop', metrics=['accuracy'])"
   ]
  },
  {
   "cell_type": "markdown",
   "metadata": {},
   "source": [
    "### Train the Model"
   ]
  },
  {
   "cell_type": "code",
   "execution_count": 33,
   "metadata": {},
   "outputs": [
    {
     "name": "stdout",
     "output_type": "stream",
     "text": [
      "Train on 6680 samples, validate on 835 samples\n",
      "Epoch 1/50\n",
      "6640/6680 [============================>.] - ETA: 0s - loss: 5.1336 - acc: 0.0161Epoch 00000: val_loss improved from inf to 4.34912, saving model to saved_models/weights.best.VGG16.hdf5\n",
      "6680/6680 [==============================] - 7s - loss: 5.1308 - acc: 0.0163 - val_loss: 4.3491 - val_acc: 0.0862\n",
      "Epoch 2/50\n",
      "6620/6680 [============================>.] - ETA: 0s - loss: 4.2361 - acc: 0.0721Epoch 00001: val_loss improved from 4.34912 to 3.37749, saving model to saved_models/weights.best.VGG16.hdf5\n",
      "6680/6680 [==============================] - 6s - loss: 4.2326 - acc: 0.0723 - val_loss: 3.3775 - val_acc: 0.2323\n",
      "Epoch 3/50\n",
      "6640/6680 [============================>.] - ETA: 0s - loss: 3.4625 - acc: 0.1584Epoch 00002: val_loss improved from 3.37749 to 2.72718, saving model to saved_models/weights.best.VGG16.hdf5\n",
      "6680/6680 [==============================] - 6s - loss: 3.4628 - acc: 0.1585 - val_loss: 2.7272 - val_acc: 0.3222\n",
      "Epoch 4/50\n",
      "6620/6680 [============================>.] - ETA: 0s - loss: 2.9258 - acc: 0.2452Epoch 00003: val_loss improved from 2.72718 to 2.27424, saving model to saved_models/weights.best.VGG16.hdf5\n",
      "6680/6680 [==============================] - 6s - loss: 2.9237 - acc: 0.2455 - val_loss: 2.2742 - val_acc: 0.4204\n",
      "Epoch 5/50\n",
      "6660/6680 [============================>.] - ETA: 0s - loss: 2.5204 - acc: 0.3125Epoch 00004: val_loss improved from 2.27424 to 1.93837, saving model to saved_models/weights.best.VGG16.hdf5\n",
      "6680/6680 [==============================] - 6s - loss: 2.5201 - acc: 0.3124 - val_loss: 1.9384 - val_acc: 0.4934\n",
      "Epoch 6/50\n",
      "6640/6680 [============================>.] - ETA: 0s - loss: 2.2999 - acc: 0.3595Epoch 00005: val_loss improved from 1.93837 to 1.78161, saving model to saved_models/weights.best.VGG16.hdf5\n",
      "6680/6680 [==============================] - 6s - loss: 2.3011 - acc: 0.3591 - val_loss: 1.7816 - val_acc: 0.5186\n",
      "Epoch 7/50\n",
      "6600/6680 [============================>.] - ETA: 0s - loss: 2.1060 - acc: 0.3892Epoch 00006: val_loss improved from 1.78161 to 1.56752, saving model to saved_models/weights.best.VGG16.hdf5\n",
      "6680/6680 [==============================] - 6s - loss: 2.1038 - acc: 0.3894 - val_loss: 1.5675 - val_acc: 0.5689\n",
      "Epoch 8/50\n",
      "6640/6680 [============================>.] - ETA: 0s - loss: 1.9672 - acc: 0.4330Epoch 00007: val_loss improved from 1.56752 to 1.49222, saving model to saved_models/weights.best.VGG16.hdf5\n",
      "6680/6680 [==============================] - 6s - loss: 1.9670 - acc: 0.4329 - val_loss: 1.4922 - val_acc: 0.5665\n",
      "Epoch 9/50\n",
      "6640/6680 [============================>.] - ETA: 0s - loss: 1.8112 - acc: 0.4642Epoch 00008: val_loss improved from 1.49222 to 1.40099, saving model to saved_models/weights.best.VGG16.hdf5\n",
      "6680/6680 [==============================] - 6s - loss: 1.8127 - acc: 0.4638 - val_loss: 1.4010 - val_acc: 0.5904\n",
      "Epoch 10/50\n",
      "6660/6680 [============================>.] - ETA: 0s - loss: 1.7444 - acc: 0.4907Epoch 00009: val_loss improved from 1.40099 to 1.29052, saving model to saved_models/weights.best.VGG16.hdf5\n",
      "6680/6680 [==============================] - 6s - loss: 1.7444 - acc: 0.4904 - val_loss: 1.2905 - val_acc: 0.6096\n",
      "Epoch 11/50\n",
      "6600/6680 [============================>.] - ETA: 0s - loss: 1.6341 - acc: 0.5182Epoch 00010: val_loss did not improve\n",
      "6680/6680 [==============================] - 5s - loss: 1.6321 - acc: 0.5195 - val_loss: 1.3152 - val_acc: 0.6144\n",
      "Epoch 12/50\n",
      "6620/6680 [============================>.] - ETA: 0s - loss: 1.5861 - acc: 0.5317Epoch 00011: val_loss improved from 1.29052 to 1.22602, saving model to saved_models/weights.best.VGG16.hdf5\n",
      "6680/6680 [==============================] - 6s - loss: 1.5870 - acc: 0.5311 - val_loss: 1.2260 - val_acc: 0.6371\n",
      "Epoch 13/50\n",
      "6660/6680 [============================>.] - ETA: 0s - loss: 1.5180 - acc: 0.5462Epoch 00012: val_loss did not improve\n",
      "6680/6680 [==============================] - 5s - loss: 1.5208 - acc: 0.5458 - val_loss: 1.2574 - val_acc: 0.6108\n",
      "Epoch 14/50\n",
      "6660/6680 [============================>.] - ETA: 0s - loss: 1.4584 - acc: 0.5554Epoch 00013: val_loss improved from 1.22602 to 1.14405, saving model to saved_models/weights.best.VGG16.hdf5\n",
      "6680/6680 [==============================] - 6s - loss: 1.4590 - acc: 0.5552 - val_loss: 1.1441 - val_acc: 0.6575\n",
      "Epoch 15/50\n",
      "6600/6680 [============================>.] - ETA: 0s - loss: 1.3844 - acc: 0.5817Epoch 00014: val_loss did not improve\n",
      "6680/6680 [==============================] - 5s - loss: 1.3839 - acc: 0.5822 - val_loss: 1.1616 - val_acc: 0.6359\n",
      "Epoch 16/50\n",
      "6620/6680 [============================>.] - ETA: 0s - loss: 1.3382 - acc: 0.5924Epoch 00015: val_loss did not improve\n",
      "6680/6680 [==============================] - 5s - loss: 1.3387 - acc: 0.5922 - val_loss: 1.1632 - val_acc: 0.6407\n",
      "Epoch 17/50\n",
      "6660/6680 [============================>.] - ETA: 0s - loss: 1.3123 - acc: 0.6116Epoch 00016: val_loss improved from 1.14405 to 1.07813, saving model to saved_models/weights.best.VGG16.hdf5\n",
      "6680/6680 [==============================] - 6s - loss: 1.3144 - acc: 0.6112 - val_loss: 1.0781 - val_acc: 0.6515\n",
      "Epoch 18/50\n",
      "6640/6680 [============================>.] - ETA: 0s - loss: 1.2389 - acc: 0.6205Epoch 00017: val_loss improved from 1.07813 to 1.06828, saving model to saved_models/weights.best.VGG16.hdf5\n",
      "6680/6680 [==============================] - 6s - loss: 1.2409 - acc: 0.6201 - val_loss: 1.0683 - val_acc: 0.6719\n",
      "Epoch 19/50\n",
      "6640/6680 [============================>.] - ETA: 0s - loss: 1.2484 - acc: 0.6208Epoch 00018: val_loss improved from 1.06828 to 1.03687, saving model to saved_models/weights.best.VGG16.hdf5\n",
      "6680/6680 [==============================] - 6s - loss: 1.2485 - acc: 0.6208 - val_loss: 1.0369 - val_acc: 0.6731\n",
      "Epoch 20/50\n",
      "6620/6680 [============================>.] - ETA: 0s - loss: 1.2288 - acc: 0.6353Epoch 00019: val_loss did not improve\n",
      "6680/6680 [==============================] - 5s - loss: 1.2272 - acc: 0.6356 - val_loss: 1.0748 - val_acc: 0.6659\n",
      "Epoch 21/50\n",
      "6640/6680 [============================>.] - ETA: 0s - loss: 1.2068 - acc: 0.6450Epoch 00020: val_loss did not improve\n",
      "6680/6680 [==============================] - 5s - loss: 1.2081 - acc: 0.6449 - val_loss: 1.0862 - val_acc: 0.6731\n",
      "Epoch 22/50\n",
      "6600/6680 [============================>.] - ETA: 0s - loss: 1.1530 - acc: 0.6580Epoch 00021: val_loss did not improve\n",
      "6680/6680 [==============================] - 5s - loss: 1.1520 - acc: 0.6573 - val_loss: 1.0464 - val_acc: 0.6826\n",
      "Epoch 23/50\n",
      "6620/6680 [============================>.] - ETA: 0s - loss: 1.1087 - acc: 0.6736Epoch 00022: val_loss did not improve\n",
      "6680/6680 [==============================] - 5s - loss: 1.1110 - acc: 0.6734 - val_loss: 1.0536 - val_acc: 0.6659\n",
      "Epoch 24/50\n",
      "6620/6680 [============================>.] - ETA: 0s - loss: 1.1349 - acc: 0.6624Epoch 00023: val_loss did not improve\n",
      "6680/6680 [==============================] - 5s - loss: 1.1336 - acc: 0.6624 - val_loss: 1.0595 - val_acc: 0.6611\n",
      "Epoch 25/50\n",
      "6600/6680 [============================>.] - ETA: 0s - loss: 1.0964 - acc: 0.6739Epoch 00024: val_loss did not improve\n",
      "6680/6680 [==============================] - 5s - loss: 1.0984 - acc: 0.6737 - val_loss: 1.0376 - val_acc: 0.6934\n",
      "Epoch 26/50\n",
      "6620/6680 [============================>.] - ETA: 0s - loss: 1.0922 - acc: 0.6727Epoch 00025: val_loss improved from 1.03687 to 1.03505, saving model to saved_models/weights.best.VGG16.hdf5\n",
      "6680/6680 [==============================] - 6s - loss: 1.0937 - acc: 0.6722 - val_loss: 1.0351 - val_acc: 0.6874\n",
      "Epoch 27/50\n",
      "6640/6680 [============================>.] - ETA: 0s - loss: 1.0431 - acc: 0.6852Epoch 00026: val_loss did not improve\n",
      "6680/6680 [==============================] - 5s - loss: 1.0457 - acc: 0.6852 - val_loss: 1.0430 - val_acc: 0.6826\n",
      "Epoch 28/50\n",
      "6660/6680 [============================>.] - ETA: 0s - loss: 1.0362 - acc: 0.6949Epoch 00027: val_loss did not improve\n",
      "6680/6680 [==============================] - 5s - loss: 1.0367 - acc: 0.6946 - val_loss: 1.0513 - val_acc: 0.6898\n",
      "Epoch 29/50\n",
      "6640/6680 [============================>.] - ETA: 0s - loss: 1.0056 - acc: 0.7000Epoch 00028: val_loss improved from 1.03505 to 1.00636, saving model to saved_models/weights.best.VGG16.hdf5\n"
     ]
    },
    {
     "name": "stdout",
     "output_type": "stream",
     "text": [
      "6680/6680 [==============================] - 6s - loss: 1.0071 - acc: 0.6994 - val_loss: 1.0064 - val_acc: 0.6850\n",
      "Epoch 30/50\n",
      "6620/6680 [============================>.] - ETA: 0s - loss: 0.9921 - acc: 0.7054Epoch 00029: val_loss improved from 1.00636 to 0.97622, saving model to saved_models/weights.best.VGG16.hdf5\n",
      "6680/6680 [==============================] - 6s - loss: 0.9908 - acc: 0.7058 - val_loss: 0.9762 - val_acc: 0.7006\n",
      "Epoch 31/50\n",
      "6620/6680 [============================>.] - ETA: 0s - loss: 0.9934 - acc: 0.7082Epoch 00030: val_loss did not improve\n",
      "6680/6680 [==============================] - 5s - loss: 0.9917 - acc: 0.7081 - val_loss: 1.0412 - val_acc: 0.6982\n",
      "Epoch 32/50\n",
      "6600/6680 [============================>.] - ETA: 0s - loss: 0.9533 - acc: 0.7203Epoch 00031: val_loss did not improve\n",
      "6680/6680 [==============================] - 5s - loss: 0.9509 - acc: 0.7210 - val_loss: 0.9777 - val_acc: 0.7150\n",
      "Epoch 33/50\n",
      "6620/6680 [============================>.] - ETA: 0s - loss: 0.9299 - acc: 0.7166Epoch 00032: val_loss did not improve\n",
      "6680/6680 [==============================] - 5s - loss: 0.9308 - acc: 0.7168 - val_loss: 1.0148 - val_acc: 0.7222\n",
      "Epoch 34/50\n",
      "6620/6680 [============================>.] - ETA: 0s - loss: 0.9323 - acc: 0.7245Epoch 00033: val_loss did not improve\n",
      "6680/6680 [==============================] - 5s - loss: 0.9325 - acc: 0.7241 - val_loss: 0.9939 - val_acc: 0.7030\n",
      "Epoch 35/50\n",
      "6640/6680 [============================>.] - ETA: 0s - loss: 0.8754 - acc: 0.7459- ETA: 0s - loss: 0.8786 - acc: 0.74Epoch 00034: val_loss improved from 0.97622 to 0.95802, saving model to saved_models/weights.best.VGG16.hdf5\n",
      "6680/6680 [==============================] - 6s - loss: 0.8737 - acc: 0.7461 - val_loss: 0.9580 - val_acc: 0.7114\n",
      "Epoch 36/50\n",
      "6660/6680 [============================>.] - ETA: 0s - loss: 0.8731 - acc: 0.7378Epoch 00035: val_loss did not improve\n",
      "6680/6680 [==============================] - 5s - loss: 0.8728 - acc: 0.7380 - val_loss: 0.9876 - val_acc: 0.7030\n",
      "Epoch 37/50\n",
      "6660/6680 [============================>.] - ETA: 0s - loss: 0.9408 - acc: 0.7300Epoch 00036: val_loss did not improve\n",
      "6680/6680 [==============================] - 5s - loss: 0.9407 - acc: 0.7299 - val_loss: 1.0639 - val_acc: 0.7006\n",
      "Epoch 38/50\n",
      "6640/6680 [============================>.] - ETA: 0s - loss: 0.8878 - acc: 0.7375Epoch 00037: val_loss did not improve\n",
      "6680/6680 [==============================] - 5s - loss: 0.8859 - acc: 0.7380 - val_loss: 1.0845 - val_acc: 0.7018\n",
      "Epoch 39/50\n",
      "6620/6680 [============================>.] - ETA: 0s - loss: 0.8621 - acc: 0.7464Epoch 00038: val_loss did not improve\n",
      "6680/6680 [==============================] - 5s - loss: 0.8605 - acc: 0.7469 - val_loss: 0.9931 - val_acc: 0.6958\n",
      "Epoch 40/50\n",
      "6640/6680 [============================>.] - ETA: 0s - loss: 0.8146 - acc: 0.7642Epoch 00039: val_loss did not improve\n",
      "6680/6680 [==============================] - 5s - loss: 0.8148 - acc: 0.7641 - val_loss: 1.0198 - val_acc: 0.7162\n",
      "Epoch 41/50\n",
      "6640/6680 [============================>.] - ETA: 0s - loss: 0.7994 - acc: 0.7648Epoch 00040: val_loss did not improve\n",
      "6680/6680 [==============================] - 5s - loss: 0.8010 - acc: 0.7644 - val_loss: 1.0117 - val_acc: 0.7150\n",
      "Epoch 42/50\n",
      "6660/6680 [============================>.] - ETA: 0s - loss: 0.8100 - acc: 0.7593Epoch 00041: val_loss did not improve\n",
      "6680/6680 [==============================] - 5s - loss: 0.8105 - acc: 0.7593 - val_loss: 1.0242 - val_acc: 0.7174\n",
      "Epoch 43/50\n",
      "6640/6680 [============================>.] - ETA: 0s - loss: 0.7614 - acc: 0.7813Epoch 00042: val_loss did not improve\n",
      "6680/6680 [==============================] - 5s - loss: 0.7658 - acc: 0.7808 - val_loss: 1.0419 - val_acc: 0.7102\n",
      "Epoch 44/50\n",
      "6620/6680 [============================>.] - ETA: 0s - loss: 0.7665 - acc: 0.7740Epoch 00043: val_loss did not improve\n",
      "6680/6680 [==============================] - 5s - loss: 0.7658 - acc: 0.7746 - val_loss: 1.0462 - val_acc: 0.6970\n",
      "Epoch 45/50\n",
      "6640/6680 [============================>.] - ETA: 0s - loss: 0.7349 - acc: 0.7842Epoch 00044: val_loss did not improve\n",
      "6680/6680 [==============================] - 5s - loss: 0.7362 - acc: 0.7844 - val_loss: 1.0289 - val_acc: 0.7078\n",
      "Epoch 46/50\n",
      "6620/6680 [============================>.] - ETA: 0s - loss: 0.7616 - acc: 0.7819Epoch 00045: val_loss did not improve\n",
      "6680/6680 [==============================] - 5s - loss: 0.7606 - acc: 0.7819 - val_loss: 1.0650 - val_acc: 0.6982\n",
      "Epoch 47/50\n",
      "6620/6680 [============================>.] - ETA: 0s - loss: 0.8148 - acc: 0.7701Epoch 00046: val_loss did not improve\n",
      "6680/6680 [==============================] - 5s - loss: 0.8166 - acc: 0.7696 - val_loss: 1.0859 - val_acc: 0.6982\n",
      "Epoch 48/50\n",
      "6640/6680 [============================>.] - ETA: 0s - loss: 0.7164 - acc: 0.7908Epoch 00047: val_loss did not improve\n",
      "6680/6680 [==============================] - 5s - loss: 0.7142 - acc: 0.7913 - val_loss: 1.0197 - val_acc: 0.7198\n",
      "Epoch 49/50\n",
      "6620/6680 [============================>.] - ETA: 0s - loss: 0.7066 - acc: 0.7927Epoch 00048: val_loss did not improve\n",
      "6680/6680 [==============================] - 5s - loss: 0.7065 - acc: 0.7927 - val_loss: 1.0514 - val_acc: 0.7317\n",
      "Epoch 50/50\n",
      "6660/6680 [============================>.] - ETA: 0s - loss: 0.6924 - acc: 0.7973Epoch 00049: val_loss did not improve\n",
      "6680/6680 [==============================] - 5s - loss: 0.6921 - acc: 0.7973 - val_loss: 1.0431 - val_acc: 0.7341\n"
     ]
    },
    {
     "data": {
      "text/plain": [
       "<keras.callbacks.History at 0x7f89565a3e80>"
      ]
     },
     "execution_count": 33,
     "metadata": {},
     "output_type": "execute_result"
    }
   ],
   "source": [
    "checkpointer = ModelCheckpoint(filepath='saved_models/weights.best.VGG16.hdf5', \n",
    "                               verbose=1, save_best_only=True)\n",
    "\n",
    "VGG16_model.fit(train_VGG16, train_targets, \n",
    "          validation_data=(valid_VGG16, valid_targets),\n",
    "          epochs=50, batch_size=20, callbacks=[checkpointer], verbose=1)"
   ]
  },
  {
   "cell_type": "markdown",
   "metadata": {},
   "source": [
    "### Load the Model with the Best Validation Loss"
   ]
  },
  {
   "cell_type": "code",
   "execution_count": 34,
   "metadata": {
    "collapsed": true
   },
   "outputs": [],
   "source": [
    "VGG16_model.load_weights('saved_models/weights.best.VGG16.hdf5')"
   ]
  },
  {
   "cell_type": "markdown",
   "metadata": {},
   "source": [
    "### Test the Model\n",
    "\n",
    "Now, we can use the CNN to test how well it identifies breed within our test dataset of dog images.  We print the test accuracy below."
   ]
  },
  {
   "cell_type": "code",
   "execution_count": 35,
   "metadata": {},
   "outputs": [
    {
     "name": "stdout",
     "output_type": "stream",
     "text": [
      "Test accuracy: 73.0861%\n"
     ]
    }
   ],
   "source": [
    "# get index of predicted dog breed for each image in test set\n",
    "VGG16_predictions = [np.argmax(VGG16_model.predict(np.expand_dims(feature, axis=0))) for feature in test_VGG16]\n",
    "\n",
    "# report test accuracy\n",
    "test_accuracy = 100*np.sum(np.array(VGG16_predictions)==np.argmax(test_targets, axis=1))/len(VGG16_predictions)\n",
    "print('Test accuracy: %.4f%%' % test_accuracy)"
   ]
  },
  {
   "cell_type": "markdown",
   "metadata": {},
   "source": [
    "### Predict Dog Breed with the Model"
   ]
  },
  {
   "cell_type": "code",
   "execution_count": 36,
   "metadata": {
    "collapsed": true
   },
   "outputs": [],
   "source": [
    "from extract_bottleneck_features import *\n",
    "\n",
    "def VGG16_predict_breed(img_path):\n",
    "    # extract bottleneck features\n",
    "    bottleneck_feature = extract_VGG16(path_to_tensor(img_path))\n",
    "    # obtain predicted vector\n",
    "    predicted_vector = VGG16_model.predict(bottleneck_feature)\n",
    "    # return dog breed that is predicted by the model\n",
    "    return dog_names[np.argmax(predicted_vector)]"
   ]
  },
  {
   "cell_type": "markdown",
   "metadata": {},
   "source": [
    "---\n",
    "<a id='step5'></a>\n",
    "## Step 5: Create a CNN to Classify Dog Breeds (using Transfer Learning)\n",
    "\n",
    "You will now use transfer learning to create a CNN that can identify dog breed from images.  Your CNN must attain at least 60% accuracy on the test set.\n",
    "\n",
    "In Step 4, we used transfer learning to create a CNN using VGG-16 bottleneck features.  In this section, you must use the bottleneck features from a different pre-trained model.  To make things easier for you, we have pre-computed the features for all of the networks that are currently available in Keras:\n",
    "- [VGG-19](https://s3-us-west-1.amazonaws.com/udacity-aind/dog-project/DogVGG19Data.npz) bottleneck features\n",
    "- [ResNet-50](https://s3-us-west-1.amazonaws.com/udacity-aind/dog-project/DogResnet50Data.npz) bottleneck features\n",
    "- [Inception](https://s3-us-west-1.amazonaws.com/udacity-aind/dog-project/DogInceptionV3Data.npz) bottleneck features\n",
    "- [Xception](https://s3-us-west-1.amazonaws.com/udacity-aind/dog-project/DogXceptionData.npz) bottleneck features\n",
    "\n",
    "The files are encoded as such:\n",
    "\n",
    "    Dog{network}Data.npz\n",
    "    \n",
    "where `{network}`, in the above filename, can be one of `VGG19`, `Resnet50`, `InceptionV3`, or `Xception`.  Pick one of the above architectures, download the corresponding bottleneck features, and store the downloaded file in the `bottleneck_features/` folder in the repository.\n",
    "\n",
    "### (IMPLEMENTATION) Obtain Bottleneck Features\n",
    "\n",
    "In the code block below, extract the bottleneck features corresponding to the train, test, and validation sets by running the following:\n",
    "\n",
    "    bottleneck_features = np.load('bottleneck_features/Dog{network}Data.npz')\n",
    "    train_{network} = bottleneck_features['train']\n",
    "    valid_{network} = bottleneck_features['valid']\n",
    "    test_{network} = bottleneck_features['test']"
   ]
  },
  {
   "cell_type": "code",
   "execution_count": 67,
   "metadata": {},
   "outputs": [
    {
     "name": "stdout",
     "output_type": "stream",
     "text": [
      "(6680, 1, 1, 2048)\n",
      "(835, 1, 1, 2048)\n",
      "(836, 1, 1, 2048)\n"
     ]
    }
   ],
   "source": [
    "from sklearn.datasets import load_files       \n",
    "from keras.utils import np_utils\n",
    "import numpy as np\n",
    "from glob import glob\n",
    "\n",
    "### TODO: Obtain bottleneck features from another pre-trained CNN.\n",
    "#bottleneck_features = np.load('bottleneck_features/DogVGG19Data.npz')\n",
    "#train_VGG19 = bottleneck_features['train']\n",
    "#valid_VGG19 = bottleneck_features['valid']\n",
    "#test_VGG19 = bottleneck_features['test']\n",
    "\n",
    "bottleneck_features = np.load('bottleneck_features/DogResnet50Data.npz')\n",
    "train_RESNET50 = bottleneck_features['train']\n",
    "valid_RESNET50 = bottleneck_features['valid']\n",
    "test_RESNET50 = bottleneck_features['test']\n",
    "\n",
    "print(train_RESNET50.shape)\n",
    "print(valid_RESNET50.shape)\n",
    "print(test_RESNET50.shape)\n"
   ]
  },
  {
   "cell_type": "markdown",
   "metadata": {},
   "source": [
    "### (IMPLEMENTATION) Model Architecture\n",
    "\n",
    "Create a CNN to classify dog breed.  At the end of your code cell block, summarize the layers of your model by executing the line:\n",
    "    \n",
    "        <your model's name>.summary()\n",
    "   \n",
    "__Question 5:__ Outline the steps you took to get to your final CNN architecture and your reasoning at each step.  Describe why you think the architecture is suitable for the current problem.\n",
    "\n",
    "__Answer:__ \n",
    "\n"
   ]
  },
  {
   "cell_type": "code",
   "execution_count": 76,
   "metadata": {},
   "outputs": [
    {
     "name": "stdout",
     "output_type": "stream",
     "text": [
      "_________________________________________________________________\n",
      "Layer (type)                 Output Shape              Param #   \n",
      "=================================================================\n",
      "flatten_12 (Flatten)         (None, 2048)              0         \n",
      "_________________________________________________________________\n",
      "dense_19 (Dense)             (None, 512)               1049088   \n",
      "_________________________________________________________________\n",
      "dropout_9 (Dropout)          (None, 512)               0         \n",
      "_________________________________________________________________\n",
      "dense_20 (Dense)             (None, 133)               68229     \n",
      "=================================================================\n",
      "Total params: 1,117,317\n",
      "Trainable params: 1,117,317\n",
      "Non-trainable params: 0\n",
      "_________________________________________________________________\n",
      "(1, 1, 2048)\n"
     ]
    }
   ],
   "source": [
    "from keras.layers import Conv2D, MaxPooling2D, GlobalAveragePooling2D\n",
    "from keras.layers import Dropout, Flatten, Dense\n",
    "from keras.models import Sequential\n",
    "\n",
    "### TODO: Define your architecture.\n",
    "RESNET50_model = Sequential()\n",
    "#VGG19_model.add(GlobalAveragePooling2D(input_shape=train_RESNET50.shape[1:]))\n",
    "RESNET50_model.add(Flatten(input_shape=train_RESNET50.shape[1:]))\n",
    "RESNET50_model.add(Dense(512, activation='sigmoid'))\n",
    "RESNET50_model.add(Dropout(0.7))\n",
    "RESNET50_model.add(Dense(133, activation='softmax'))\n",
    "\n",
    "RESNET50_model.summary()\n",
    "\n",
    "print(train_RESNET50.shape[1:])\n",
    "\n",
    "\n",
    "\n"
   ]
  },
  {
   "cell_type": "markdown",
   "metadata": {},
   "source": [
    "### (IMPLEMENTATION) Compile the Model"
   ]
  },
  {
   "cell_type": "code",
   "execution_count": 77,
   "metadata": {
    "collapsed": true
   },
   "outputs": [],
   "source": [
    "### TODO: Compile the model.\n",
    "RESNET50_model.compile(loss='categorical_crossentropy', optimizer='rmsprop', metrics=['accuracy'])"
   ]
  },
  {
   "cell_type": "markdown",
   "metadata": {},
   "source": [
    "### (IMPLEMENTATION) Train the Model\n",
    "\n",
    "Train your model in the code cell below.  Use model checkpointing to save the model that attains the best validation loss.  \n",
    "\n",
    "You are welcome to [augment the training data](https://blog.keras.io/building-powerful-image-classification-models-using-very-little-data.html), but this is not a requirement. "
   ]
  },
  {
   "cell_type": "code",
   "execution_count": 78,
   "metadata": {},
   "outputs": [
    {
     "name": "stdout",
     "output_type": "stream",
     "text": [
      "Train on 6680 samples, validate on 835 samples\n",
      "Epoch 1/20\n",
      "6640/6680 [============================>.] - ETA: 0s - loss: 3.1782 - acc: 0.3018Epoch 00000: val_loss improved from inf to 1.39329, saving model to saved_models/weights.best.RESNET50.hdf5\n",
      "6680/6680 [==============================] - 3s - loss: 3.1704 - acc: 0.3033 - val_loss: 1.3933 - val_acc: 0.6790\n",
      "Epoch 2/20\n",
      "6640/6680 [============================>.] - ETA: 0s - loss: 1.3708 - acc: 0.6139Epoch 00001: val_loss improved from 1.39329 to 0.84218, saving model to saved_models/weights.best.RESNET50.hdf5\n",
      "6680/6680 [==============================] - 2s - loss: 1.3683 - acc: 0.6148 - val_loss: 0.8422 - val_acc: 0.7677\n",
      "Epoch 3/20\n",
      "6640/6680 [============================>.] - ETA: 0s - loss: 0.9306 - acc: 0.7221Epoch 00002: val_loss improved from 0.84218 to 0.69766, saving model to saved_models/weights.best.RESNET50.hdf5\n",
      "6680/6680 [==============================] - 2s - loss: 0.9308 - acc: 0.7216 - val_loss: 0.6977 - val_acc: 0.7701\n",
      "Epoch 4/20\n",
      "6580/6680 [============================>.] - ETA: 0s - loss: 0.7599 - acc: 0.7640Epoch 00003: val_loss improved from 0.69766 to 0.63261, saving model to saved_models/weights.best.RESNET50.hdf5\n",
      "6680/6680 [==============================] - 2s - loss: 0.7624 - acc: 0.7629 - val_loss: 0.6326 - val_acc: 0.7916\n",
      "Epoch 5/20\n",
      "6600/6680 [============================>.] - ETA: 0s - loss: 0.6572 - acc: 0.7842Epoch 00004: val_loss improved from 0.63261 to 0.56899, saving model to saved_models/weights.best.RESNET50.hdf5\n",
      "6680/6680 [==============================] - 2s - loss: 0.6579 - acc: 0.7841 - val_loss: 0.5690 - val_acc: 0.8204\n",
      "Epoch 6/20\n",
      "6600/6680 [============================>.] - ETA: 0s - loss: 0.5786 - acc: 0.8141Epoch 00005: val_loss did not improve\n",
      "6680/6680 [==============================] - 2s - loss: 0.5797 - acc: 0.8138 - val_loss: 0.5710 - val_acc: 0.8240\n",
      "Epoch 7/20\n",
      "6620/6680 [============================>.] - ETA: 0s - loss: 0.5291 - acc: 0.8293Epoch 00006: val_loss improved from 0.56899 to 0.53638, saving model to saved_models/weights.best.RESNET50.hdf5\n",
      "6680/6680 [==============================] - 2s - loss: 0.5300 - acc: 0.8289 - val_loss: 0.5364 - val_acc: 0.8216\n",
      "Epoch 8/20\n",
      "6580/6680 [============================>.] - ETA: 0s - loss: 0.4801 - acc: 0.8441Epoch 00007: val_loss improved from 0.53638 to 0.52704, saving model to saved_models/weights.best.RESNET50.hdf5\n",
      "6680/6680 [==============================] - 2s - loss: 0.4815 - acc: 0.8431 - val_loss: 0.5270 - val_acc: 0.8335\n",
      "Epoch 9/20\n",
      "6600/6680 [============================>.] - ETA: 0s - loss: 0.4399 - acc: 0.8518Epoch 00008: val_loss improved from 0.52704 to 0.52697, saving model to saved_models/weights.best.RESNET50.hdf5\n",
      "6680/6680 [==============================] - 2s - loss: 0.4378 - acc: 0.8524 - val_loss: 0.5270 - val_acc: 0.8395\n",
      "Epoch 10/20\n",
      "6500/6680 [============================>.] - ETA: 0s - loss: 0.4229 - acc: 0.8665Epoch 00009: val_loss improved from 0.52697 to 0.52688, saving model to saved_models/weights.best.RESNET50.hdf5\n",
      "6680/6680 [==============================] - 2s - loss: 0.4224 - acc: 0.8665 - val_loss: 0.5269 - val_acc: 0.8299\n",
      "Epoch 11/20\n",
      "6500/6680 [============================>.] - ETA: 0s - loss: 0.3872 - acc: 0.8732Epoch 00010: val_loss improved from 0.52688 to 0.50211, saving model to saved_models/weights.best.RESNET50.hdf5\n",
      "6680/6680 [==============================] - 2s - loss: 0.3872 - acc: 0.8737 - val_loss: 0.5021 - val_acc: 0.8479\n",
      "Epoch 12/20\n",
      "6600/6680 [============================>.] - ETA: 0s - loss: 0.3635 - acc: 0.8850Epoch 00011: val_loss did not improve\n",
      "6680/6680 [==============================] - 2s - loss: 0.3634 - acc: 0.8853 - val_loss: 0.5128 - val_acc: 0.8419\n",
      "Epoch 13/20\n",
      "6640/6680 [============================>.] - ETA: 0s - loss: 0.3308 - acc: 0.8914Epoch 00012: val_loss did not improve\n",
      "6680/6680 [==============================] - 2s - loss: 0.3306 - acc: 0.8913 - val_loss: 0.5250 - val_acc: 0.8383\n",
      "Epoch 14/20\n",
      "6620/6680 [============================>.] - ETA: 0s - loss: 0.3186 - acc: 0.8917Epoch 00013: val_loss did not improve\n",
      "6680/6680 [==============================] - 2s - loss: 0.3189 - acc: 0.8912 - val_loss: 0.5232 - val_acc: 0.8323\n",
      "Epoch 15/20\n",
      "6580/6680 [============================>.] - ETA: 0s - loss: 0.2888 - acc: 0.9050Epoch 00014: val_loss improved from 0.50211 to 0.49304, saving model to saved_models/weights.best.RESNET50.hdf5\n",
      "6680/6680 [==============================] - 2s - loss: 0.2888 - acc: 0.9055 - val_loss: 0.4930 - val_acc: 0.8431\n",
      "Epoch 16/20\n",
      "6660/6680 [============================>.] - ETA: 0s - loss: 0.2758 - acc: 0.9108Epoch 00015: val_loss did not improve\n",
      "6680/6680 [==============================] - 2s - loss: 0.2760 - acc: 0.9109 - val_loss: 0.5190 - val_acc: 0.8491\n",
      "Epoch 17/20\n",
      "6640/6680 [============================>.] - ETA: 0s - loss: 0.2676 - acc: 0.9110Epoch 00016: val_loss did not improve\n",
      "6680/6680 [==============================] - 2s - loss: 0.2685 - acc: 0.9100 - val_loss: 0.5028 - val_acc: 0.8647\n",
      "Epoch 18/20\n",
      "6600/6680 [============================>.] - ETA: 0s - loss: 0.2473 - acc: 0.9138Epoch 00017: val_loss did not improve\n",
      "6680/6680 [==============================] - 2s - loss: 0.2480 - acc: 0.9135 - val_loss: 0.5370 - val_acc: 0.8443\n",
      "Epoch 19/20\n",
      "6540/6680 [============================>.] - ETA: 0s - loss: 0.2477 - acc: 0.9170Epoch 00018: val_loss did not improve\n",
      "6680/6680 [==============================] - 2s - loss: 0.2485 - acc: 0.9165 - val_loss: 0.5125 - val_acc: 0.8551\n",
      "Epoch 20/20\n",
      "6660/6680 [============================>.] - ETA: 0s - loss: 0.2238 - acc: 0.9251Epoch 00019: val_loss did not improve\n",
      "6680/6680 [==============================] - 2s - loss: 0.2237 - acc: 0.9250 - val_loss: 0.5195 - val_acc: 0.8527\n"
     ]
    },
    {
     "data": {
      "text/plain": [
       "<keras.callbacks.History at 0x7f8955073fd0>"
      ]
     },
     "execution_count": 78,
     "metadata": {},
     "output_type": "execute_result"
    }
   ],
   "source": [
    "### TODO: Train the model.\n",
    "from keras.callbacks import ModelCheckpoint\n",
    "\n",
    "checkpointer = ModelCheckpoint(filepath='saved_models/weights.best.RESNET50.hdf5', \n",
    "                               verbose=1, save_best_only=True)\n",
    "\n",
    "RESNET50_model.fit(train_RESNET50, train_targets, \n",
    "          validation_data=(valid_RESNET50, valid_targets),\n",
    "          epochs=20, batch_size=20, callbacks=[checkpointer], verbose=1)"
   ]
  },
  {
   "cell_type": "markdown",
   "metadata": {},
   "source": [
    "\n",
    "### (IMPLEMENTATION) Load the Model with the Best Validation Loss"
   ]
  },
  {
   "cell_type": "code",
   "execution_count": 79,
   "metadata": {
    "collapsed": true
   },
   "outputs": [],
   "source": [
    "### TODO: Load the model weights with the best validation loss.\n",
    "RESNET50_model.load_weights('saved_models/weights.best.RESNET50.hdf5')"
   ]
  },
  {
   "cell_type": "markdown",
   "metadata": {},
   "source": [
    "### (IMPLEMENTATION) Test the Model\n",
    "\n",
    "Try out your model on the test dataset of dog images. Ensure that your test accuracy is greater than 60%."
   ]
  },
  {
   "cell_type": "code",
   "execution_count": 80,
   "metadata": {},
   "outputs": [
    {
     "name": "stdout",
     "output_type": "stream",
     "text": [
      "Test accuracy: 82.5359%\n"
     ]
    }
   ],
   "source": [
    "### TODO: Calculate classification accuracy on the test dataset.\n",
    "# get index of predicted dog breed for each image in test set\n",
    "RESNET50_predictions = [np.argmax(RESNET50_model.predict(np.expand_dims(feature, axis=0))) for feature in test_RESNET50]\n",
    "\n",
    "# report test accuracy\n",
    "test_accuracy = 100*np.sum(np.array(RESNET50_predictions)==np.argmax(test_targets, axis=1))/len(RESNET50_predictions)\n",
    "print('Test accuracy: %.4f%%' % test_accuracy)"
   ]
  },
  {
   "cell_type": "markdown",
   "metadata": {},
   "source": [
    "### (IMPLEMENTATION) Predict Dog Breed with the Model\n",
    "\n",
    "Write a function that takes an image path as input and returns the dog breed (`Affenpinscher`, `Afghan_hound`, etc) that is predicted by your model.  \n",
    "\n",
    "Similar to the analogous function in Step 5, your function should have three steps:\n",
    "1. Extract the bottleneck features corresponding to the chosen CNN model.\n",
    "2. Supply the bottleneck features as input to the model to return the predicted vector.  Note that the argmax of this prediction vector gives the index of the predicted dog breed.\n",
    "3. Use the `dog_names` array defined in Step 0 of this notebook to return the corresponding breed.\n",
    "\n",
    "The functions to extract the bottleneck features can be found in `extract_bottleneck_features.py`, and they have been imported in an earlier code cell.  To obtain the bottleneck features corresponding to your chosen CNN architecture, you need to use the function\n",
    "\n",
    "    extract_{network}\n",
    "    \n",
    "where `{network}`, in the above filename, should be one of `VGG19`, `Resnet50`, `InceptionV3`, or `Xception`."
   ]
  },
  {
   "cell_type": "code",
   "execution_count": 1,
   "metadata": {
    "collapsed": true
   },
   "outputs": [],
   "source": [
    "### TODO: Write a function that takes a path to an image as input\n",
    "### and returns the dog breed that is predicted by the model.\n",
    "from extract_bottleneck_features import *\n",
    "\n",
    "def Resnet50_predict_breed(img_path):\n",
    "    # extract bottleneck features\n",
    "    bottleneck_feature = extract_Resnet50(path_to_tensor(img_path))\n",
    "    # obtain predicted vector\n",
    "    predicted_vector = Resnet50_model.predict(bottleneck_feature)\n",
    "    # return dog breed that is predicted by the model\n",
    "    return dog_names[np.argmax(predicted_vector)]"
   ]
  },
  {
   "cell_type": "markdown",
   "metadata": {},
   "source": [
    "---\n",
    "<a id='step6'></a>\n",
    "## Step 6: Write your Algorithm\n",
    "\n",
    "Write an algorithm that accepts a file path to an image and first determines whether the image contains a human, dog, or neither.  Then,\n",
    "- if a __dog__ is detected in the image, return the predicted breed.\n",
    "- if a __human__ is detected in the image, return the resembling dog breed.\n",
    "- if __neither__ is detected in the image, provide output that indicates an error.\n",
    "\n",
    "You are welcome to write your own functions for detecting humans and dogs in images, but feel free to use the `face_detector` and `dog_detector` functions developed above.  You are __required__ to use your CNN from Step 5 to predict dog breed.  \n",
    "\n",
    "Some sample output for our algorithm is provided below, but feel free to design your own user experience!\n",
    "\n",
    "![Sample Human Output](images/sample_human_output.png)\n",
    "\n",
    "\n",
    "### (IMPLEMENTATION) Write your Algorithm"
   ]
  },
  {
   "cell_type": "code",
   "execution_count": 1,
   "metadata": {
    "collapsed": true
   },
   "outputs": [],
   "source": [
    "import cv2                \n",
    "import matplotlib.pyplot as plt                        \n",
    "%matplotlib inline                               \n",
    "\n",
    "# extract pre-trained face detector\n",
    "face_cascade = cv2.CascadeClassifier('haarcascades/haarcascade_frontalface_alt.xml')\n",
    "\n",
    "# returns \"True\" if face is detected in image stored at img_path\n",
    "def face_detector(img_path):\n",
    "    img = cv2.imread(img_path)\n",
    "    gray = cv2.cvtColor(img, cv2.COLOR_BGR2GRAY)\n",
    "    faces = face_cascade.detectMultiScale(gray)\n",
    "    return len(faces) > 0\n"
   ]
  },
  {
   "cell_type": "code",
   "execution_count": 2,
   "metadata": {},
   "outputs": [
    {
     "name": "stderr",
     "output_type": "stream",
     "text": [
      "Using TensorFlow backend.\n"
     ]
    }
   ],
   "source": [
    "from keras.applications.resnet50 import preprocess_input, decode_predictions\n",
    "from keras.applications.resnet50 import ResNet50\n",
    "from keras.preprocessing import image                  \n",
    "from tqdm import tqdm\n",
    "\n",
    "# define ResNet50 model\n",
    "ResNet50_model = ResNet50(weights='imagenet')\n",
    "\n",
    "\n",
    "def path_to_tensor(img_path):\n",
    "    # loads RGB image as PIL.Image.Image type\n",
    "    img = image.load_img(img_path, target_size=(224, 224))\n",
    "    # convert PIL.Image.Image type to 3D tensor with shape (224, 224, 3)\n",
    "    x = image.img_to_array(img)\n",
    "    # convert 3D tensor to 4D tensor with shape (1, 224, 224, 3) and return 4D tensor\n",
    "    return np.expand_dims(x, axis=0)\n",
    "\n",
    "def paths_to_tensor(img_paths):\n",
    "    list_of_tensors = [path_to_tensor(img_path) for img_path in tqdm(img_paths)]\n",
    "    return np.vstack(list_of_tensors)\n",
    "\n",
    "\n",
    "def ResNet50_predict_labels(img_path):\n",
    "    # returns prediction vector for image located at img_path\n",
    "    img = preprocess_input(path_to_tensor(img_path))\n",
    "    return np.argmax(ResNet50_model.predict(img))\n",
    "\n",
    "### returns \"True\" if a dog is detected in the image stored at img_path\n",
    "def dog_detector(img_path):\n",
    "    prediction = ResNet50_predict_labels(img_path)\n",
    "    return ((prediction <= 268) & (prediction >= 151)) \n",
    "\n"
   ]
  },
  {
   "cell_type": "code",
   "execution_count": 12,
   "metadata": {},
   "outputs": [
    {
     "ename": "IndexError",
     "evalue": "list index out of range",
     "output_type": "error",
     "traceback": [
      "\u001b[0;31m---------------------------------------------------------------------------\u001b[0m",
      "\u001b[0;31mIndexError\u001b[0m                                Traceback (most recent call last)",
      "\u001b[0;32m<ipython-input-12-400194209d81>\u001b[0m in \u001b[0;36m<module>\u001b[0;34m()\u001b[0m\n\u001b[1;32m      6\u001b[0m \u001b[0;31m### TODO: Define your architecture.\u001b[0m\u001b[0;34m\u001b[0m\u001b[0;34m\u001b[0m\u001b[0m\n\u001b[1;32m      7\u001b[0m \u001b[0;31m#Resnet50_model = Sequential()\u001b[0m\u001b[0;34m\u001b[0m\u001b[0;34m\u001b[0m\u001b[0m\n\u001b[0;32m----> 8\u001b[0;31m \u001b[0mResnet50_model\u001b[0m\u001b[0;34m.\u001b[0m\u001b[0mload_weights\u001b[0m\u001b[0;34m(\u001b[0m\u001b[0;34m'saved_models/weights.best.RESNET50.hdf5'\u001b[0m\u001b[0;34m)\u001b[0m\u001b[0;34m\u001b[0m\u001b[0m\n\u001b[0m\u001b[1;32m      9\u001b[0m \u001b[0;34m\u001b[0m\u001b[0m\n\u001b[1;32m     10\u001b[0m \u001b[0;32mdef\u001b[0m \u001b[0mResnet50_predict_breed\u001b[0m\u001b[0;34m(\u001b[0m\u001b[0mimg_path\u001b[0m\u001b[0;34m)\u001b[0m\u001b[0;34m:\u001b[0m\u001b[0;34m\u001b[0m\u001b[0m\n",
      "\u001b[0;32m/home/aind2/anaconda3/envs/aind2/lib/python3.6/site-packages/keras/models.py\u001b[0m in \u001b[0;36mload_weights\u001b[0;34m(self, filepath, by_name)\u001b[0m\n\u001b[1;32m    708\u001b[0m \u001b[0;34m\u001b[0m\u001b[0m\n\u001b[1;32m    709\u001b[0m         \u001b[0;31m# Legacy support\u001b[0m\u001b[0;34m\u001b[0m\u001b[0;34m\u001b[0m\u001b[0m\n\u001b[0;32m--> 710\u001b[0;31m         \u001b[0;32mif\u001b[0m \u001b[0mlegacy_models\u001b[0m\u001b[0;34m.\u001b[0m\u001b[0mneeds_legacy_support\u001b[0m\u001b[0;34m(\u001b[0m\u001b[0mself\u001b[0m\u001b[0;34m)\u001b[0m\u001b[0;34m:\u001b[0m\u001b[0;34m\u001b[0m\u001b[0m\n\u001b[0m\u001b[1;32m    711\u001b[0m             \u001b[0mlayers\u001b[0m \u001b[0;34m=\u001b[0m \u001b[0mlegacy_models\u001b[0m\u001b[0;34m.\u001b[0m\u001b[0mlegacy_sequential_layers\u001b[0m\u001b[0;34m(\u001b[0m\u001b[0mself\u001b[0m\u001b[0;34m)\u001b[0m\u001b[0;34m\u001b[0m\u001b[0m\n\u001b[1;32m    712\u001b[0m         \u001b[0;32melse\u001b[0m\u001b[0;34m:\u001b[0m\u001b[0;34m\u001b[0m\u001b[0m\n",
      "\u001b[0;32m/home/aind2/anaconda3/envs/aind2/lib/python3.6/site-packages/keras/legacy/models.py\u001b[0m in \u001b[0;36mneeds_legacy_support\u001b[0;34m(model)\u001b[0m\n\u001b[1;32m      3\u001b[0m \u001b[0;34m\u001b[0m\u001b[0m\n\u001b[1;32m      4\u001b[0m \u001b[0;32mdef\u001b[0m \u001b[0mneeds_legacy_support\u001b[0m\u001b[0;34m(\u001b[0m\u001b[0mmodel\u001b[0m\u001b[0;34m)\u001b[0m\u001b[0;34m:\u001b[0m\u001b[0;34m\u001b[0m\u001b[0m\n\u001b[0;32m----> 5\u001b[0;31m     \u001b[0;32mreturn\u001b[0m \u001b[0misinstance\u001b[0m\u001b[0;34m(\u001b[0m\u001b[0mmodel\u001b[0m\u001b[0;34m.\u001b[0m\u001b[0mlayers\u001b[0m\u001b[0;34m[\u001b[0m\u001b[0;36m0\u001b[0m\u001b[0;34m]\u001b[0m\u001b[0;34m,\u001b[0m \u001b[0mMerge\u001b[0m\u001b[0;34m)\u001b[0m\u001b[0;34m\u001b[0m\u001b[0m\n\u001b[0m\u001b[1;32m      6\u001b[0m \u001b[0;34m\u001b[0m\u001b[0m\n\u001b[1;32m      7\u001b[0m \u001b[0;34m\u001b[0m\u001b[0m\n",
      "\u001b[0;31mIndexError\u001b[0m: list index out of range"
     ]
    }
   ],
   "source": [
    "### TODO: Write a function that takes a path to an image as input\n",
    "### and returns the dog breed that is predicted by the model.\n",
    "from extract_bottleneck_features import *\n",
    "from keras.models import Sequential\n",
    "\n",
    "### TODO: Define your architecture.\n",
    "#Resnet50_model = Sequential()\n",
    "Resnet50_model.load_weights('saved_models/weights.best.RESNET50.hdf5')\n",
    "\n",
    "def Resnet50_predict_breed(img_path):\n",
    "    # extract bottleneck features\n",
    "    bottleneck_feature = extract_Resnet50(path_to_tensor(img_path))\n",
    "    # obtain predicted vector\n",
    "    predicted_vector = Resnet50_model.predict(bottleneck_feature)\n",
    "    # return dog breed that is predicted by the model\n",
    "    return dog_names[np.argmax(predicted_vector)]"
   ]
  },
  {
   "cell_type": "code",
   "execution_count": 8,
   "metadata": {},
   "outputs": [
    {
     "name": "stdout",
     "output_type": "stream",
     "text": [
      "Path at terminal when executing this file\n",
      "/home/aind2/aind2-cnn/dog-project/images\n"
     ]
    }
   ],
   "source": [
    "import os\n",
    "\n",
    "print(\"Path at terminal when executing this file\")\n",
    "print(os.getcwd() + \"/images\")\n",
    "\n"
   ]
  },
  {
   "cell_type": "code",
   "execution_count": 10,
   "metadata": {},
   "outputs": [
    {
     "name": "stdout",
     "output_type": "stream",
     "text": [
      "There are 10 total images.\n"
     ]
    },
    {
     "data": {
      "image/png": "[encoded data removed]",
      "text/plain": [
       "<matplotlib.figure.Figure at 0x7f45404f22b0>"
      ]
     },
     "metadata": {},
     "output_type": "display_data"
    },
    {
     "name": "stdout",
     "output_type": "stream",
     "text": [
      "Dog Detected\n",
      "Downloading data from https://github.com/fchollet/deep-learning-models/releases/download/v0.2/resnet50_weights_tf_dim_ordering_tf_kernels_notop.h5\n"
     ]
    },
    {
     "ename": "NameError",
     "evalue": "name 'Resnet50_model' is not defined",
     "output_type": "error",
     "traceback": [
      "\u001b[0;31m---------------------------------------------------------------------------\u001b[0m",
      "\u001b[0;31mNameError\u001b[0m                                 Traceback (most recent call last)",
      "\u001b[0;32m<ipython-input-10-89208c110c25>\u001b[0m in \u001b[0;36m<module>\u001b[0;34m()\u001b[0m\n\u001b[1;32m     38\u001b[0m         \u001b[0mplt\u001b[0m\u001b[0;34m.\u001b[0m\u001b[0mshow\u001b[0m\u001b[0;34m(\u001b[0m\u001b[0;34m)\u001b[0m\u001b[0;34m\u001b[0m\u001b[0m\n\u001b[1;32m     39\u001b[0m         \u001b[0mprint\u001b[0m \u001b[0;34m(\u001b[0m\u001b[0;34m\"Dog Detected\"\u001b[0m\u001b[0;34m)\u001b[0m\u001b[0;34m\u001b[0m\u001b[0m\n\u001b[0;32m---> 40\u001b[0;31m         \u001b[0mprint\u001b[0m\u001b[0;34m(\u001b[0m\u001b[0mResnet50_predict_breed\u001b[0m\u001b[0;34m(\u001b[0m\u001b[0mimg_path\u001b[0m\u001b[0;34m)\u001b[0m\u001b[0;34m)\u001b[0m\u001b[0;34m\u001b[0m\u001b[0m\n\u001b[0m\u001b[1;32m     41\u001b[0m     \u001b[0;32melse\u001b[0m \u001b[0;34m:\u001b[0m\u001b[0;34m\u001b[0m\u001b[0m\n\u001b[1;32m     42\u001b[0m         \u001b[0mimg\u001b[0m \u001b[0;34m=\u001b[0m \u001b[0mcv2\u001b[0m\u001b[0;34m.\u001b[0m\u001b[0mimread\u001b[0m\u001b[0;34m(\u001b[0m\u001b[0mimages\u001b[0m\u001b[0;34m)\u001b[0m\u001b[0;34m\u001b[0m\u001b[0m\n",
      "\u001b[0;32m<ipython-input-3-9368474c3553>\u001b[0m in \u001b[0;36mResnet50_predict_breed\u001b[0;34m(img_path)\u001b[0m\n\u001b[1;32m      7\u001b[0m     \u001b[0mbottleneck_feature\u001b[0m \u001b[0;34m=\u001b[0m \u001b[0mextract_Resnet50\u001b[0m\u001b[0;34m(\u001b[0m\u001b[0mpath_to_tensor\u001b[0m\u001b[0;34m(\u001b[0m\u001b[0mimg_path\u001b[0m\u001b[0;34m)\u001b[0m\u001b[0;34m)\u001b[0m\u001b[0;34m\u001b[0m\u001b[0m\n\u001b[1;32m      8\u001b[0m     \u001b[0;31m# obtain predicted vector\u001b[0m\u001b[0;34m\u001b[0m\u001b[0;34m\u001b[0m\u001b[0m\n\u001b[0;32m----> 9\u001b[0;31m     \u001b[0mpredicted_vector\u001b[0m \u001b[0;34m=\u001b[0m \u001b[0mResnet50_model\u001b[0m\u001b[0;34m.\u001b[0m\u001b[0mpredict\u001b[0m\u001b[0;34m(\u001b[0m\u001b[0mbottleneck_feature\u001b[0m\u001b[0;34m)\u001b[0m\u001b[0;34m\u001b[0m\u001b[0m\n\u001b[0m\u001b[1;32m     10\u001b[0m     \u001b[0;31m# return dog breed that is predicted by the model\u001b[0m\u001b[0;34m\u001b[0m\u001b[0;34m\u001b[0m\u001b[0m\n\u001b[1;32m     11\u001b[0m     \u001b[0;32mreturn\u001b[0m \u001b[0mdog_names\u001b[0m\u001b[0;34m[\u001b[0m\u001b[0mnp\u001b[0m\u001b[0;34m.\u001b[0m\u001b[0margmax\u001b[0m\u001b[0;34m(\u001b[0m\u001b[0mpredicted_vector\u001b[0m\u001b[0;34m)\u001b[0m\u001b[0;34m]\u001b[0m\u001b[0;34m\u001b[0m\u001b[0m\n",
      "\u001b[0;31mNameError\u001b[0m: name 'Resnet50_model' is not defined"
     ]
    }
   ],
   "source": [
    "### TODO: Write your algorithm.\n",
    "### Feel free to use as many code cells as needed.\n",
    "import numpy as np\n",
    "import cv2\n",
    "from matplotlib import pyplot as plt\n",
    "from sklearn.datasets import load_files       \n",
    "from keras.utils import np_utils\n",
    "import numpy as np\n",
    "from glob import glob\n",
    "import os\n",
    "\n",
    "# load imagefiles from images folder\n",
    "image_files = np.array(glob(\"images/*\"))\n",
    "img_path = os.getcwd() + \"/images/Brittany_02625.jpg\"\n",
    "# print statistics about the dataset\n",
    "print('There are %d total images.' % len(image_files))\n",
    "\n",
    "\n",
    "# Load an color image in grayscale\n",
    "#img = cv2.imread('images/*',0)\n",
    "#print(img)\n",
    "#plt.imshow(img, cmap = 'gray', interpolation = 'bicubic')\n",
    "#plt.xticks([]), plt.yticks([])  # to hide tick values on X and Y axis\n",
    "#plt.show()\n",
    "for images in image_files:\n",
    "    if face_detector(images):\n",
    "        img = cv2.imread(images)\n",
    "        plt.imshow(img, cmap = 'gray', interpolation = 'bicubic')\n",
    "        plt.xticks([]), plt.yticks([])  # to hide tick values on X and Y axis\n",
    "        plt.show()\n",
    "        print (\"Human Face Detected\")\n",
    "        print(Resnet50_predict_breed(img_path))\n",
    "        \n",
    "    elif dog_detector(images):\n",
    "        img = cv2.imread(images)\n",
    "        plt.imshow(img, cmap = 'gray', interpolation = 'bicubic')\n",
    "        plt.xticks([]), plt.yticks([])  # to hide tick values on X and Y axis\n",
    "        plt.show()\n",
    "        print (\"Dog Detected\")\n",
    "        print(Resnet50_predict_breed(img_path))\n",
    "    else :\n",
    "        img = cv2.imread(images)\n",
    "        plt.imshow(img, cmap = 'gray', interpolation = 'bicubic')\n",
    "        plt.xticks([]), plt.yticks([])  # to hide tick values on X and Y axis\n",
    "        plt.show()\n",
    "        print(\"Error - please select an image of a dog or human face\")"
   ]
  },
  {
   "cell_type": "markdown",
   "metadata": {},
   "source": [
    "---\n",
    "<a id='step7'></a>\n",
    "## Step 7: Test Your Algorithm\n",
    "\n",
    "In this section, you will take your new algorithm for a spin!  What kind of dog does the algorithm think that __you__ look like?  If you have a dog, does it predict your dog's breed accurately?  If you have a cat, does it mistakenly think that your cat is a dog?\n",
    "\n",
    "### (IMPLEMENTATION) Test Your Algorithm on Sample Images!\n",
    "\n",
    "Test your algorithm at least six images on your computer.  Feel free to use any images you like.  Use at least two human and two dog images.  \n",
    "\n",
    "__Question 6:__ Is the output better than you expected :) ?  Or worse :( ?  Provide at least three possible points of improvement for your algorithm.\n",
    "\n",
    "__Answer:__ "
   ]
  },
  {
   "cell_type": "code",
   "execution_count": 45,
   "metadata": {
    "collapsed": true
   },
   "outputs": [],
   "source": [
    "## TODO: Execute your algorithm from Step 6 on\n",
    "## at least 6 images on your computer.\n",
    "## Feel free to use as many code cells as needed."
   ]
  }
 ],
 "metadata": {
  "anaconda-cloud": {},
  "kernelspec": {
   "display_name": "Python 3",
   "language": "python",
   "name": "python3"
  },
  "language_info": {
   "codemirror_mode": {
    "name": "ipython",
    "version": 3
   },
   "file_extension": ".py",
   "mimetype": "text/x-python",
   "name": "python",
   "nbconvert_exporter": "python",
   "pygments_lexer": "ipython3",
   "version": "3.6.1"
  }
 },
 "nbformat": 4,
 "nbformat_minor": 1
}
